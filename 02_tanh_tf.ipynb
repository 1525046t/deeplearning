{
 "cells": [
  {
   "cell_type": "code",
   "execution_count": 1,
   "metadata": {},
   "outputs": [],
   "source": [
    "import numpy as np\n",
    "from sklearn.utils import shuffle\n",
    "import tensorflow as tf\n",
    "from tensorflow.keras import datasets\n",
    "from tensorflow.keras.models import Model\n",
    "from tensorflow.keras.layers import Dense\n",
    "from tensorflow.keras import optimizers\n",
    "from tensorflow.keras import losses\n",
    "from tensorflow.keras import metrics"
   ]
  },
  {
   "cell_type": "code",
   "execution_count": 2,
   "metadata": {},
   "outputs": [],
   "source": [
    "class DNN(Model):\n",
    "    def __init__(self,hidden_dim,output_dim):\n",
    "        super().__init__()\n",
    "        self.l1=Dense(hidden_dim,activation='tanh')\n",
    "        self.l2=Dense(hidden_dim,activation='tanh')\n",
    "        self.l3=Dense(hidden_dim,activation='tanh')\n",
    "        self.l4=Dense(output_dim,activation='softmax')\n",
    "        self.ls=[self.l1,self.l2,self.l3,self.l4]\n",
    "        \n",
    "    def call(self,x):\n",
    "        for layer in self.ls:\n",
    "            x=layer(x)\n",
    "        return x"
   ]
  },
  {
   "cell_type": "code",
   "execution_count": 3,
   "metadata": {},
   "outputs": [],
   "source": [
    "mnist=datasets.mnist\n",
    "(x_train,t_train),(x_test,t_test)=mnist.load_data()\n",
    "\n",
    "x_train=(x_train.reshape(-1,784)/255).astype(np.float32)\n",
    "x_test=(x_test.reshape(-1,784)/255).astype(np.float32)\n",
    "t_train=np.eye(10)[t_train].astype(np.float32)\n",
    "t_test=np.eye(10)[t_test].astype(np.float32)"
   ]
  },
  {
   "cell_type": "code",
   "execution_count": 4,
   "metadata": {},
   "outputs": [],
   "source": [
    "model=DNN(200,10)"
   ]
  },
  {
   "cell_type": "code",
   "execution_count": 5,
   "metadata": {},
   "outputs": [
    {
     "name": "stdout",
     "output_type": "stream",
     "text": [
      "epoch: 0, loss: 2.022, acc: 0.882\n",
      "epoch: 1, loss: 1.507, acc: 0.911\n",
      "epoch: 2, loss: 1.264, acc: 0.925\n",
      "epoch: 3, loss: 1.111, acc: 0.934\n",
      "epoch: 4, loss: 1.005, acc: 0.940\n",
      "epoch: 5, loss: 0.923, acc: 0.945\n",
      "epoch: 6, loss: 0.855, acc: 0.949\n",
      "epoch: 7, loss: 0.799, acc: 0.953\n",
      "epoch: 8, loss: 0.752, acc: 0.955\n",
      "epoch: 9, loss: 0.710, acc: 0.958\n",
      "epoch: 10, loss: 0.675, acc: 0.960\n",
      "epoch: 11, loss: 0.643, acc: 0.962\n",
      "epoch: 12, loss: 0.613, acc: 0.964\n",
      "epoch: 13, loss: 0.587, acc: 0.965\n",
      "epoch: 14, loss: 0.564, acc: 0.966\n",
      "epoch: 15, loss: 0.542, acc: 0.968\n",
      "epoch: 16, loss: 0.521, acc: 0.969\n",
      "epoch: 17, loss: 0.501, acc: 0.970\n",
      "epoch: 18, loss: 0.483, acc: 0.971\n",
      "epoch: 19, loss: 0.467, acc: 0.972\n",
      "epoch: 20, loss: 0.452, acc: 0.973\n",
      "epoch: 21, loss: 0.438, acc: 0.974\n",
      "epoch: 22, loss: 0.424, acc: 0.975\n",
      "epoch: 23, loss: 0.412, acc: 0.976\n",
      "epoch: 24, loss: 0.400, acc: 0.976\n",
      "epoch: 25, loss: 0.388, acc: 0.977\n",
      "epoch: 26, loss: 0.378, acc: 0.978\n",
      "epoch: 27, loss: 0.368, acc: 0.978\n",
      "epoch: 28, loss: 0.359, acc: 0.979\n",
      "epoch: 29, loss: 0.350, acc: 0.979\n"
     ]
    }
   ],
   "source": [
    "criterion=losses.CategoricalCrossentropy()\n",
    "optimizer=optimizers.SGD(learning_rate=0.1)\n",
    "train_loss=metrics.Mean()\n",
    "train_acc=metrics.CategoricalAccuracy()\n",
    "\n",
    "def compute_loss(t,y):\n",
    "    return criterion(t,y)\n",
    "\n",
    "def train_step(x,t):\n",
    "    with tf.GradientTape() as tape:\n",
    "        preds=model(x)\n",
    "        loss=compute_loss(preds,t)\n",
    "    grads=tape.gradient(loss,model.trainable_variables)\n",
    "    optimizer.apply_gradients(zip(grads,model.trainable_variables))\n",
    "    train_loss(loss)\n",
    "    train_acc(t,preds)\n",
    "    return loss\n",
    "\n",
    "epochs=30\n",
    "batch_size=100\n",
    "n_batches=x_train.shape[0]//batch_size\n",
    "\n",
    "for epoch in range(epochs):\n",
    "    x_,t_=shuffle(x_train,t_train)\n",
    "    \n",
    "    for batch in range(n_batches):\n",
    "        start=batch*batch_size\n",
    "        end=start+batch_size\n",
    "        train_step(x_[start:end],t_[start:end])\n",
    "    \n",
    "    print('epoch: {}, loss: {:.3f}, acc: {:.3f}'.format(epoch,train_loss.result(),train_acc.result()))\n"
   ]
  },
  {
   "cell_type": "code",
   "execution_count": 6,
   "metadata": {},
   "outputs": [
    {
     "name": "stdout",
     "output_type": "stream",
     "text": [
      "test_loss: 0.168, test_acc:0.977\n"
     ]
    }
   ],
   "source": [
    "test_loss=metrics.Mean()\n",
    "test_acc=metrics.CategoricalAccuracy()\n",
    "\n",
    "def test_step(x,t):\n",
    "    preds=model(x)\n",
    "    loss=compute_loss(t,preds)\n",
    "    test_loss(loss)\n",
    "    test_acc(t,preds)\n",
    "    return loss\n",
    "\n",
    "test_step(x_test,t_test)\n",
    "\n",
    "print('test_loss: {:.3f}, test_acc:{:.3f}'.format(test_loss.result(),test_acc.result()))"
   ]
  },
  {
   "cell_type": "code",
   "execution_count": null,
   "metadata": {},
   "outputs": [],
   "source": []
  }
 ],
 "metadata": {
  "kernelspec": {
   "display_name": "Python 3",
   "language": "python",
   "name": "python3"
  },
  "language_info": {
   "codemirror_mode": {
    "name": "ipython",
    "version": 3
   },
   "file_extension": ".py",
   "mimetype": "text/x-python",
   "name": "python",
   "nbconvert_exporter": "python",
   "pygments_lexer": "ipython3",
   "version": "3.7.7"
  }
 },
 "nbformat": 4,
 "nbformat_minor": 4
}
