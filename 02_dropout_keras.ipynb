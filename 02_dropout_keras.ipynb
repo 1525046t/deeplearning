{
 "cells": [
  {
   "cell_type": "code",
   "execution_count": 4,
   "metadata": {},
   "outputs": [],
   "source": [
    "import tensorflow as tf\n",
    "from tensorflow.keras import datasets\n",
    "from tensorflow.keras.models import Sequential\n",
    "from tensorflow.keras.layers import Dense,Dropout\n",
    "from tensorflow.keras import backend\n",
    "import numpy as np"
   ]
  },
  {
   "cell_type": "code",
   "execution_count": 2,
   "metadata": {},
   "outputs": [],
   "source": [
    "mnist=datasets.mnist\n",
    "(x_train,t_train),(x_test,t_test)=mnist.load_data()\n",
    "\n",
    "x_train=(x_train.reshape(-1,784)/255).astype(np.float32)\n",
    "x_test=(x_test.reshape(-1,784)/255).astype(np.float32)\n",
    "t_train=np.eye(10)[t_train].astype(np.float32)\n",
    "t_test=np.eye(10)[t_test].astype(np.float32)"
   ]
  },
  {
   "cell_type": "code",
   "execution_count": 3,
   "metadata": {},
   "outputs": [
    {
     "name": "stdout",
     "output_type": "stream",
     "text": [
      "Train on 60000 samples\n",
      "Epoch 1/30\n",
      "60000/60000 - 1s - loss: 1.9591 - accuracy: 0.3044\n",
      "Epoch 2/30\n",
      "60000/60000 - 1s - loss: 1.1642 - accuracy: 0.6011\n",
      "Epoch 3/30\n",
      "60000/60000 - 1s - loss: 0.8440 - accuracy: 0.7235\n",
      "Epoch 4/30\n",
      "60000/60000 - 1s - loss: 0.6912 - accuracy: 0.7820\n",
      "Epoch 5/30\n",
      "60000/60000 - 1s - loss: 0.6068 - accuracy: 0.8123\n",
      "Epoch 6/30\n",
      "60000/60000 - 1s - loss: 0.5451 - accuracy: 0.8365\n",
      "Epoch 7/30\n",
      "60000/60000 - 1s - loss: 0.5018 - accuracy: 0.8512\n",
      "Epoch 8/30\n",
      "60000/60000 - 1s - loss: 0.4680 - accuracy: 0.8635\n",
      "Epoch 9/30\n",
      "60000/60000 - 1s - loss: 0.4355 - accuracy: 0.8733\n",
      "Epoch 10/30\n",
      "60000/60000 - 1s - loss: 0.4133 - accuracy: 0.8823\n",
      "Epoch 11/30\n",
      "60000/60000 - 1s - loss: 0.3932 - accuracy: 0.8871\n",
      "Epoch 12/30\n",
      "60000/60000 - 1s - loss: 0.3761 - accuracy: 0.8932\n",
      "Epoch 13/30\n",
      "60000/60000 - 1s - loss: 0.3622 - accuracy: 0.8965\n",
      "Epoch 14/30\n",
      "60000/60000 - 1s - loss: 0.3385 - accuracy: 0.9025\n",
      "Epoch 15/30\n",
      "60000/60000 - 1s - loss: 0.3292 - accuracy: 0.9076\n",
      "Epoch 16/30\n",
      "60000/60000 - 1s - loss: 0.3234 - accuracy: 0.9083\n",
      "Epoch 17/30\n",
      "60000/60000 - 1s - loss: 0.3101 - accuracy: 0.9108\n",
      "Epoch 18/30\n",
      "60000/60000 - 1s - loss: 0.3008 - accuracy: 0.9148\n",
      "Epoch 19/30\n",
      "60000/60000 - 1s - loss: 0.2942 - accuracy: 0.9177\n",
      "Epoch 20/30\n",
      "60000/60000 - 1s - loss: 0.2825 - accuracy: 0.9197\n",
      "Epoch 21/30\n",
      "60000/60000 - 1s - loss: 0.2761 - accuracy: 0.9220\n",
      "Epoch 22/30\n",
      "60000/60000 - 1s - loss: 0.2667 - accuracy: 0.9249\n",
      "Epoch 23/30\n",
      "60000/60000 - 1s - loss: 0.2644 - accuracy: 0.9257\n",
      "Epoch 24/30\n",
      "60000/60000 - 1s - loss: 0.2570 - accuracy: 0.9275\n",
      "Epoch 25/30\n",
      "60000/60000 - 1s - loss: 0.2505 - accuracy: 0.9284\n",
      "Epoch 26/30\n",
      "60000/60000 - 1s - loss: 0.2491 - accuracy: 0.9306\n",
      "Epoch 27/30\n",
      "60000/60000 - 1s - loss: 0.2395 - accuracy: 0.9326\n",
      "Epoch 28/30\n",
      "60000/60000 - 1s - loss: 0.2370 - accuracy: 0.9327\n",
      "Epoch 29/30\n",
      "60000/60000 - 1s - loss: 0.2281 - accuracy: 0.9369\n",
      "Epoch 30/30\n",
      "60000/60000 - 1s - loss: 0.2303 - accuracy: 0.9347\n",
      "test_loss: 0.132, test_acc: 0.961\n"
     ]
    }
   ],
   "source": [
    "model=Sequential()\n",
    "model.add(Dense(200,activation='relu'))\n",
    "model.add(Dropout(0.5))\n",
    "model.add(Dense(200,activation='relu'))\n",
    "model.add(Dropout(0.5))\n",
    "model.add(Dense(200,activation='relu'))\n",
    "model.add(Dropout(0.5))\n",
    "model.add(Dense(10,activation='softmax'))\n",
    "\n",
    "model.compile(optimizer='sgd',loss='categorical_crossentropy',metrics=['accuracy'])\n",
    "model.fit(x_train,t_train,epochs=30,batch_size=100,verbose=2)\n",
    "loss,acc=model.evaluate(x_test,t_test,verbose=0)\n",
    "\n",
    "print('test_loss: {:.3f}, test_acc: {:.3f}'.format(loss,acc))"
   ]
  },
  {
   "cell_type": "code",
   "execution_count": 4,
   "metadata": {},
   "outputs": [
    {
     "name": "stdout",
     "output_type": "stream",
     "text": [
      "test_loss: 0.132, test_acc: 0.961\n"
     ]
    }
   ],
   "source": [
    "loss,acc=model.evaluate(x_test,t_test,verbose=0)\n",
    "print('test_loss: {:.3f}, test_acc: {:.3f}'.format(loss,acc))"
   ]
  },
  {
   "cell_type": "code",
   "execution_count": null,
   "metadata": {},
   "outputs": [],
   "source": []
  }
 ],
 "metadata": {
  "kernelspec": {
   "display_name": "Python 3",
   "language": "python",
   "name": "python3"
  },
  "language_info": {
   "codemirror_mode": {
    "name": "ipython",
    "version": 3
   },
   "file_extension": ".py",
   "mimetype": "text/x-python",
   "name": "python",
   "nbconvert_exporter": "python",
   "pygments_lexer": "ipython3",
   "version": "3.7.7"
  }
 },
 "nbformat": 4,
 "nbformat_minor": 4
}
