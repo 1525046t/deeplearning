{
 "cells": [
  {
   "cell_type": "code",
   "execution_count": 9,
   "metadata": {},
   "outputs": [],
   "source": [
    "import numpy as np\n",
    "import matplotlib.pyplot as plt\n",
    "from sklearn.model_selection import train_test_split\n",
    "import tensorflow as tf\n",
    "from tensorflow.keras import datasets,optimizers\n",
    "from tensorflow.keras.models import Sequential\n",
    "from tensorflow.keras.layers import Dense,Dropout,Activation,BatchNormalization\n",
    "from tensorflow.keras.callbacks import EarlyStopping"
   ]
  },
  {
   "cell_type": "code",
   "execution_count": 10,
   "metadata": {},
   "outputs": [],
   "source": [
    "'''\n",
    "1. データの準備\n",
    "'''\n",
    "mnist=datasets.mnist\n",
    "(x_train,t_train),(x_test,t_test)=mnist.load_data()\n",
    "\n",
    "x_train=(x_train.reshape(-1,784)/255).astype(np.float32)\n",
    "x_test=(x_test.reshape(-1,784)/255).astype(np.float32)\n",
    "\n",
    "x_train,x_val,t_train,t_val=train_test_split(x_train,t_train,test_size=0.2)"
   ]
  },
  {
   "cell_type": "code",
   "execution_count": 11,
   "metadata": {},
   "outputs": [],
   "source": [
    "'''\n",
    "2. モデルの構築\n",
    "'''\n",
    "model=Sequential()\n",
    "model.add(Dense(200,kernel_initializer='he_normal'))\n",
    "#model.add(Dense(200,activation='sigmoid',kernel_initializer='glorot_normal'))\n",
    "model.add(BatchNormalization())\n",
    "model.add(Activation('relu'))\n",
    "model.add(Dropout(0.5))\n",
    "model.add(Dense(200,kernel_initializer='he_normal'))\n",
    "#model.add(Dense(200,activation='sigmoid',kernel_initializer='glorot_normal'))\n",
    "model.add(BatchNormalization())\n",
    "model.add(Activation('relu'))\n",
    "model.add(Dropout(0.5))\n",
    "model.add(Dense(200,kernel_initializer='he_normal'))\n",
    "#model.add(Dense(200,activation='sigmoid',kernel_initializer='glorot_normal'))\n",
    "model.add(BatchNormalization())\n",
    "model.add(Activation('relu'))\n",
    "model.add(Dropout(0.5))\n",
    "model.add(Dense(10,activation='softmax'))"
   ]
  },
  {
   "cell_type": "code",
   "execution_count": 12,
   "metadata": {},
   "outputs": [
    {
     "name": "stdout",
     "output_type": "stream",
     "text": [
      "Train on 48000 samples, validate on 12000 samples\n",
      "Epoch 1/1000\n",
      "48000/48000 - 1s - loss: 0.8345 - accuracy: 0.7325 - val_loss: 0.2771 - val_accuracy: 0.9170\n",
      "Epoch 2/1000\n",
      "48000/48000 - 1s - loss: 0.3989 - accuracy: 0.8811 - val_loss: 0.1965 - val_accuracy: 0.9421\n",
      "Epoch 3/1000\n",
      "48000/48000 - 1s - loss: 0.3184 - accuracy: 0.9045 - val_loss: 0.1684 - val_accuracy: 0.9480\n",
      "Epoch 4/1000\n",
      "48000/48000 - 1s - loss: 0.2713 - accuracy: 0.9205 - val_loss: 0.1519 - val_accuracy: 0.9528\n",
      "Epoch 5/1000\n",
      "48000/48000 - 1s - loss: 0.2394 - accuracy: 0.9298 - val_loss: 0.1322 - val_accuracy: 0.9599\n",
      "Epoch 6/1000\n",
      "48000/48000 - 1s - loss: 0.2131 - accuracy: 0.9370 - val_loss: 0.1265 - val_accuracy: 0.9613\n",
      "Epoch 7/1000\n",
      "48000/48000 - 1s - loss: 0.1999 - accuracy: 0.9401 - val_loss: 0.1210 - val_accuracy: 0.9647\n",
      "Epoch 8/1000\n",
      "48000/48000 - 2s - loss: 0.1832 - accuracy: 0.9468 - val_loss: 0.1121 - val_accuracy: 0.9675\n",
      "Epoch 9/1000\n",
      "48000/48000 - 1s - loss: 0.1744 - accuracy: 0.9486 - val_loss: 0.1124 - val_accuracy: 0.9680\n",
      "Epoch 10/1000\n",
      "48000/48000 - 1s - loss: 0.1613 - accuracy: 0.9514 - val_loss: 0.1081 - val_accuracy: 0.9685\n",
      "Epoch 11/1000\n",
      "48000/48000 - 1s - loss: 0.1536 - accuracy: 0.9542 - val_loss: 0.1034 - val_accuracy: 0.9706\n",
      "Epoch 12/1000\n",
      "48000/48000 - 1s - loss: 0.1486 - accuracy: 0.9559 - val_loss: 0.1018 - val_accuracy: 0.9705\n",
      "Epoch 13/1000\n",
      "48000/48000 - 1s - loss: 0.1424 - accuracy: 0.9572 - val_loss: 0.0972 - val_accuracy: 0.9716\n",
      "Epoch 14/1000\n",
      "48000/48000 - 1s - loss: 0.1347 - accuracy: 0.9605 - val_loss: 0.0968 - val_accuracy: 0.9718\n",
      "Epoch 15/1000\n",
      "48000/48000 - 2s - loss: 0.1293 - accuracy: 0.9607 - val_loss: 0.0935 - val_accuracy: 0.9724\n",
      "Epoch 16/1000\n",
      "48000/48000 - 2s - loss: 0.1297 - accuracy: 0.9613 - val_loss: 0.0886 - val_accuracy: 0.9737\n",
      "Epoch 17/1000\n",
      "48000/48000 - 2s - loss: 0.1216 - accuracy: 0.9636 - val_loss: 0.0935 - val_accuracy: 0.9731\n",
      "Epoch 18/1000\n",
      "48000/48000 - 1s - loss: 0.1169 - accuracy: 0.9647 - val_loss: 0.0910 - val_accuracy: 0.9740\n",
      "Epoch 19/1000\n",
      "48000/48000 - 1s - loss: 0.1164 - accuracy: 0.9654 - val_loss: 0.0909 - val_accuracy: 0.9745\n",
      "Epoch 20/1000\n",
      "48000/48000 - 1s - loss: 0.1097 - accuracy: 0.9669 - val_loss: 0.0880 - val_accuracy: 0.9746\n",
      "Epoch 21/1000\n",
      "48000/48000 - 2s - loss: 0.1090 - accuracy: 0.9669 - val_loss: 0.0871 - val_accuracy: 0.9747\n",
      "Epoch 22/1000\n",
      "48000/48000 - 2s - loss: 0.1027 - accuracy: 0.9691 - val_loss: 0.0874 - val_accuracy: 0.9752\n",
      "Epoch 23/1000\n",
      "48000/48000 - 2s - loss: 0.1016 - accuracy: 0.9686 - val_loss: 0.0866 - val_accuracy: 0.9758\n",
      "Epoch 24/1000\n",
      "48000/48000 - 1s - loss: 0.0980 - accuracy: 0.9696 - val_loss: 0.0856 - val_accuracy: 0.9762\n",
      "Epoch 25/1000\n",
      "48000/48000 - 1s - loss: 0.0958 - accuracy: 0.9702 - val_loss: 0.0873 - val_accuracy: 0.9759\n",
      "Epoch 26/1000\n",
      "48000/48000 - 2s - loss: 0.0994 - accuracy: 0.9705 - val_loss: 0.0892 - val_accuracy: 0.9747\n",
      "Epoch 27/1000\n",
      "48000/48000 - 1s - loss: 0.0971 - accuracy: 0.9700 - val_loss: 0.0858 - val_accuracy: 0.9749\n",
      "Epoch 28/1000\n",
      "48000/48000 - 2s - loss: 0.0920 - accuracy: 0.9715 - val_loss: 0.0813 - val_accuracy: 0.9776\n",
      "Epoch 29/1000\n",
      "48000/48000 - 1s - loss: 0.0904 - accuracy: 0.9724 - val_loss: 0.0828 - val_accuracy: 0.9767\n",
      "Epoch 30/1000\n",
      "48000/48000 - 1s - loss: 0.0886 - accuracy: 0.9727 - val_loss: 0.0850 - val_accuracy: 0.9766\n",
      "Epoch 31/1000\n",
      "48000/48000 - 2s - loss: 0.0854 - accuracy: 0.9731 - val_loss: 0.0868 - val_accuracy: 0.9766\n",
      "Epoch 32/1000\n",
      "48000/48000 - 2s - loss: 0.0914 - accuracy: 0.9725 - val_loss: 0.0854 - val_accuracy: 0.9768\n",
      "Epoch 33/1000\n",
      "48000/48000 - 2s - loss: 0.0871 - accuracy: 0.9739 - val_loss: 0.0823 - val_accuracy: 0.9783\n",
      "Epoch 00033: early stopping\n"
     ]
    }
   ],
   "source": [
    "'''\n",
    "3. モデルの学習\n",
    "'''\n",
    "#optimizer=optimizers.SGD(learning_rate=0.01,momentum=0.9) # モメンタム\n",
    "#optimizer=optimizers.SGD(learning_rate=0.01,momentum=0.9,nesterov=True) # モメンタム\n",
    "#optimizer=optimizers.Adagrad(learning_rate=0.01)\n",
    "#optimizer=optimizers.RMSprop(learning_rate=0.001,rho=0.99)\n",
    "#optimizer=optimizers.Adadelta(rho=0.95)\n",
    "#optimizer=optimizers.Adam(learning_rate=0.001,beta_1=0.9,beta_2=0.999)\n",
    "optimizer=optimizers.Adam(learning_rate=0.001,beta_1=0.9,beta_2=0.999,amsgrad=True)\n",
    "\n",
    "model.compile(optimizer=optimizer,loss='sparse_categorical_crossentropy',metrics=['accuracy'])\n",
    "es=EarlyStopping(monitor='val_loss',patience=5,verbose=1)\n",
    "hist=model.fit(x_train,t_train,epochs=1000,batch_size=128,verbose=2,validation_data=(x_val,t_val),callbacks=[es])"
   ]
  },
  {
   "cell_type": "raw",
   "metadata": {},
   "source": [
    "# val_loss=hist.history['val_loss']\n",
    "val_acc=hist.history['val_accuracy']\n",
    "plt.figure()\n",
    "plt.rc('font',family='serif')\n",
    "plt.plot(range(len(val_loss)),val_loss,color='black',linewidth=1)\n",
    "\n",
    "plt.xlabel('epoch')\n",
    "plt.ylabel('loss')\n",
    "# plt.savefig('output.jpg')\n",
    "plt.show()\n",
    "plt.ylabel('accuracy')\n",
    "plt.plot(range(len(val_acc)),val_acc,color='red',linewidth=1)"
   ]
  },
  {
   "cell_type": "code",
   "execution_count": 13,
   "metadata": {},
   "outputs": [
    {
     "data": {
      "text/plain": [
       "<Figure size 432x288 with 0 Axes>"
      ]
     },
     "metadata": {},
     "output_type": "display_data"
    },
    {
     "data": {
      "image/png": "[encoded data removed]",
      "text/plain": [
       "<Figure size 432x288 with 2 Axes>"
      ]
     },
     "metadata": {
      "needs_background": "light"
     },
     "output_type": "display_data"
    },
    {
     "name": "stdout",
     "output_type": "stream",
     "text": [
      "test_loss: 0.071, test_acc: 0.981\n"
     ]
    }
   ],
   "source": [
    "\n",
    "'''\n",
    "4. モデルの評価\n",
    "'''\n",
    "val_loss=hist.history['val_loss']\n",
    "val_acc=hist.history['val_accuracy']\n",
    "\n",
    "fig=plt.figure()\n",
    "fig, ax1 = plt.subplots()\n",
    "ax2 = ax1.twinx() # 二つ目の軸を定義\n",
    "\n",
    "ax1.set_ylabel('loss') # ラベルを設定\n",
    "ax2.set_ylabel('accuracy') \n",
    "#ax2.set_ylim(0,1)\n",
    "\n",
    "plt.rc('font',family='serif')\n",
    "ax1.plot(range(len(val_loss)),val_loss,color='black',linewidth=1)\n",
    "ax2.plot(range(len(val_acc)),val_acc,color='red',linewidth=1)\n",
    "plt.xlabel('epoch')\n",
    "# plt.savefig('output.jpg')\n",
    "plt.show()\n",
    "\n",
    "loss,acc=model.evaluate(x_test,t_test,verbose=0)\n",
    "print('test_loss: {:.3f}, test_acc: {:.3f}'.format(loss,acc))"
   ]
  },
  {
   "cell_type": "code",
   "execution_count": null,
   "metadata": {},
   "outputs": [],
   "source": []
  }
 ],
 "metadata": {
  "kernelspec": {
   "display_name": "Python 3",
   "language": "python",
   "name": "python3"
  },
  "language_info": {
   "codemirror_mode": {
    "name": "ipython",
    "version": 3
   },
   "file_extension": ".py",
   "mimetype": "text/x-python",
   "name": "python",
   "nbconvert_exporter": "python",
   "pygments_lexer": "ipython3",
   "version": "3.7.7"
  }
 },
 "nbformat": 4,
 "nbformat_minor": 4
}
