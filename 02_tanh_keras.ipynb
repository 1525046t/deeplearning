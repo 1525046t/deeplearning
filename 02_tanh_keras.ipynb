{
 "cells": [
  {
   "cell_type": "code",
   "execution_count": 1,
   "metadata": {},
   "outputs": [],
   "source": [
    "from tensorflow.keras import datasets\n",
    "\n",
    "mnist=datasets.mnist\n",
    "(x_train,t_train),(x_test,t_test)=mnist.load_data()"
   ]
  },
  {
   "cell_type": "code",
   "execution_count": 2,
   "metadata": {},
   "outputs": [],
   "source": [
    "import numpy as np\n",
    "\n",
    "x_train=(x_train.reshape(-1,784)/255).astype(np.float32)\n",
    "x_test=(x_test.reshape(-1,784)/255).astype(np.float32)\n",
    "t_train=np.eye(10)[t_train].astype(np.float32)\n",
    "t_test=np.eye(10)[t_test].astype(np.float32)"
   ]
  },
  {
   "cell_type": "code",
   "execution_count": 3,
   "metadata": {},
   "outputs": [
    {
     "name": "stdout",
     "output_type": "stream",
     "text": [
      "Train on 60000 samples\n",
      "Epoch 1/30\n",
      "60000/60000 - 1s - loss: 0.8031 - accuracy: 0.7993\n",
      "Epoch 2/30\n",
      "60000/60000 - 1s - loss: 0.3962 - accuracy: 0.8906\n",
      "Epoch 3/30\n",
      "60000/60000 - 1s - loss: 0.3387 - accuracy: 0.9040\n",
      "Epoch 4/30\n",
      "60000/60000 - 1s - loss: 0.3098 - accuracy: 0.9104\n",
      "Epoch 5/30\n",
      "60000/60000 - 1s - loss: 0.2900 - accuracy: 0.9171\n",
      "Epoch 6/30\n",
      "60000/60000 - 1s - loss: 0.2750 - accuracy: 0.9209\n",
      "Epoch 7/30\n",
      "60000/60000 - 1s - loss: 0.2619 - accuracy: 0.9251\n",
      "Epoch 8/30\n",
      "60000/60000 - 1s - loss: 0.2505 - accuracy: 0.9280\n",
      "Epoch 9/30\n",
      "60000/60000 - 1s - loss: 0.2397 - accuracy: 0.9315\n",
      "Epoch 10/30\n",
      "60000/60000 - 1s - loss: 0.2299 - accuracy: 0.9341\n",
      "Epoch 11/30\n",
      "60000/60000 - 1s - loss: 0.2207 - accuracy: 0.9365\n",
      "Epoch 12/30\n",
      "60000/60000 - 1s - loss: 0.2118 - accuracy: 0.9392\n",
      "Epoch 13/30\n",
      "60000/60000 - 1s - loss: 0.2032 - accuracy: 0.9428\n",
      "Epoch 14/30\n",
      "60000/60000 - 1s - loss: 0.1954 - accuracy: 0.9440\n",
      "Epoch 15/30\n",
      "60000/60000 - 1s - loss: 0.1880 - accuracy: 0.9462\n",
      "Epoch 16/30\n",
      "60000/60000 - 1s - loss: 0.1809 - accuracy: 0.9485\n",
      "Epoch 17/30\n",
      "60000/60000 - 1s - loss: 0.1742 - accuracy: 0.9504\n",
      "Epoch 18/30\n",
      "60000/60000 - 1s - loss: 0.1681 - accuracy: 0.9518\n",
      "Epoch 19/30\n",
      "60000/60000 - 1s - loss: 0.1620 - accuracy: 0.9542\n",
      "Epoch 20/30\n",
      "60000/60000 - 1s - loss: 0.1566 - accuracy: 0.9551\n",
      "Epoch 21/30\n",
      "60000/60000 - 1s - loss: 0.1513 - accuracy: 0.9566\n",
      "Epoch 22/30\n",
      "60000/60000 - 1s - loss: 0.1462 - accuracy: 0.9582\n",
      "Epoch 23/30\n",
      "60000/60000 - 1s - loss: 0.1415 - accuracy: 0.9595\n",
      "Epoch 24/30\n",
      "60000/60000 - 1s - loss: 0.1370 - accuracy: 0.9609\n",
      "Epoch 25/30\n",
      "60000/60000 - 1s - loss: 0.1328 - accuracy: 0.9618\n",
      "Epoch 26/30\n",
      "60000/60000 - 1s - loss: 0.1288 - accuracy: 0.9631\n",
      "Epoch 27/30\n",
      "60000/60000 - 1s - loss: 0.1248 - accuracy: 0.9645\n",
      "Epoch 28/30\n",
      "60000/60000 - 1s - loss: 0.1211 - accuracy: 0.9654\n",
      "Epoch 29/30\n",
      "60000/60000 - 1s - loss: 0.1175 - accuracy: 0.9666\n",
      "Epoch 30/30\n",
      "60000/60000 - 1s - loss: 0.1142 - accuracy: 0.9675\n",
      "test_loss: 0.125, test_acc: 0.963\n"
     ]
    }
   ],
   "source": [
    "from tensorflow.keras.models import Sequential\n",
    "from tensorflow.keras.layers import Dense\n",
    "#from tensorflow.keras import optimizers\n",
    "model=Sequential()\n",
    "model.add(Dense(200,activation='tanh'))\n",
    "model.add(Dense(200,activation='tanh'))\n",
    "model.add(Dense(200,activation='tanh'))\n",
    "model.add(Dense(10,activation='softmax'))\n",
    "\n",
    "model.compile(optimizer='sgd',loss='categorical_crossentropy',metrics=['accuracy'])\n",
    "model.fit(x_train,t_train,epochs=30,batch_size=100,verbose=2)\n",
    "loss,acc=model.evaluate(x_test,t_test,verbose=0)\n",
    "print('test_loss: {:.3f}, test_acc: {:.3f}'.format(loss,acc))"
   ]
  },
  {
   "cell_type": "code",
   "execution_count": 5,
   "metadata": {},
   "outputs": [
    {
     "name": "stdout",
     "output_type": "stream",
     "text": [
      "test_loss: 0.125, test_acc: 0.963\n"
     ]
    }
   ],
   "source": [
    "loss,acc=model.evaluate(x_test,t_test,verbose=0)\n",
    "print('test_loss: {:.3f}, test_acc: {:.3f}'.format(loss,acc))"
   ]
  },
  {
   "cell_type": "code",
   "execution_count": null,
   "metadata": {},
   "outputs": [],
   "source": []
  }
 ],
 "metadata": {
  "kernelspec": {
   "display_name": "Python 3",
   "language": "python",
   "name": "python3"
  },
  "language_info": {
   "codemirror_mode": {
    "name": "ipython",
    "version": 3
   },
   "file_extension": ".py",
   "mimetype": "text/x-python",
   "name": "python",
   "nbconvert_exporter": "python",
   "pygments_lexer": "ipython3",
   "version": "3.7.7"
  }
 },
 "nbformat": 4,
 "nbformat_minor": 4
}
