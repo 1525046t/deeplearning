{
 "cells": [
  {
   "cell_type": "code",
   "execution_count": 18,
   "metadata": {},
   "outputs": [],
   "source": [
    "from tensorflow.keras import datasets\n",
    "from tensorflow.keras.layers import Dense,LeakyReLU\n",
    "from tensorflow.keras.models import Sequential\n",
    "\n",
    "mnist=datasets.mnist\n",
    "(x_train,t_train),(x_test,t_test)=mnist.load_data()"
   ]
  },
  {
   "cell_type": "code",
   "execution_count": 19,
   "metadata": {},
   "outputs": [],
   "source": [
    "import numpy as np\n",
    "\n",
    "x_train=(x_train.reshape(-1,784)/255).astype(np.float32)\n",
    "x_test=(x_test.reshape(-1,784)/255).astype(np.float32)\n",
    "t_train=np.eye(10)[t_train].astype(np.float32)\n",
    "t_test=np.eye(10)[t_test].astype(np.float32)"
   ]
  },
  {
   "cell_type": "code",
   "execution_count": 20,
   "metadata": {},
   "outputs": [
    {
     "name": "stdout",
     "output_type": "stream",
     "text": [
      "Train on 60000 samples\n",
      "Epoch 1/30\n",
      "60000/60000 - 1s - loss: 1.2471 - accuracy: 0.6847\n",
      "Epoch 2/30\n",
      "60000/60000 - 1s - loss: 0.4109 - accuracy: 0.8855\n",
      "Epoch 3/30\n",
      "60000/60000 - 1s - loss: 0.3264 - accuracy: 0.9057\n",
      "Epoch 4/30\n",
      "60000/60000 - 1s - loss: 0.2869 - accuracy: 0.9173\n",
      "Epoch 5/30\n",
      "60000/60000 - 1s - loss: 0.2590 - accuracy: 0.9241\n",
      "Epoch 6/30\n",
      "60000/60000 - 1s - loss: 0.2377 - accuracy: 0.9304\n",
      "Epoch 7/30\n",
      "60000/60000 - 1s - loss: 0.2200 - accuracy: 0.9364\n",
      "Epoch 8/30\n",
      "60000/60000 - 1s - loss: 0.2048 - accuracy: 0.9404\n",
      "Epoch 9/30\n",
      "60000/60000 - 1s - loss: 0.1916 - accuracy: 0.9450\n",
      "Epoch 10/30\n",
      "60000/60000 - 1s - loss: 0.1800 - accuracy: 0.9475\n",
      "Epoch 11/30\n",
      "60000/60000 - 1s - loss: 0.1694 - accuracy: 0.9511\n",
      "Epoch 12/30\n",
      "60000/60000 - 1s - loss: 0.1603 - accuracy: 0.9540\n",
      "Epoch 13/30\n",
      "60000/60000 - 1s - loss: 0.1519 - accuracy: 0.9560\n",
      "Epoch 14/30\n",
      "60000/60000 - 1s - loss: 0.1442 - accuracy: 0.9585\n",
      "Epoch 15/30\n",
      "60000/60000 - 1s - loss: 0.1372 - accuracy: 0.9604\n",
      "Epoch 16/30\n",
      "60000/60000 - 1s - loss: 0.1308 - accuracy: 0.9627\n",
      "Epoch 17/30\n",
      "60000/60000 - 1s - loss: 0.1249 - accuracy: 0.9642\n",
      "Epoch 18/30\n",
      "60000/60000 - 1s - loss: 0.1194 - accuracy: 0.9664\n",
      "Epoch 19/30\n",
      "60000/60000 - 1s - loss: 0.1143 - accuracy: 0.9672\n",
      "Epoch 20/30\n",
      "60000/60000 - 1s - loss: 0.1093 - accuracy: 0.9693\n",
      "Epoch 21/30\n",
      "60000/60000 - 1s - loss: 0.1049 - accuracy: 0.9701\n",
      "Epoch 22/30\n",
      "60000/60000 - 1s - loss: 0.1008 - accuracy: 0.9714\n",
      "Epoch 23/30\n",
      "60000/60000 - 1s - loss: 0.0969 - accuracy: 0.9722\n",
      "Epoch 24/30\n",
      "60000/60000 - 1s - loss: 0.0933 - accuracy: 0.9734\n",
      "Epoch 25/30\n",
      "60000/60000 - 1s - loss: 0.0894 - accuracy: 0.9749\n",
      "Epoch 26/30\n",
      "60000/60000 - 1s - loss: 0.0866 - accuracy: 0.9754\n",
      "Epoch 27/30\n",
      "60000/60000 - 1s - loss: 0.0829 - accuracy: 0.9769\n",
      "Epoch 28/30\n",
      "60000/60000 - 1s - loss: 0.0804 - accuracy: 0.9772\n",
      "Epoch 29/30\n",
      "60000/60000 - 1s - loss: 0.0770 - accuracy: 0.9785\n",
      "Epoch 30/30\n",
      "60000/60000 - 1s - loss: 0.0744 - accuracy: 0.9790\n",
      "test_loss: 0.098, test_acc: 0.970\n"
     ]
    }
   ],
   "source": [
    "model=Sequential()\n",
    "model.add(Dense(200))\n",
    "model.add(LeakyReLU(0.01))\n",
    "model.add(Dense(200))\n",
    "model.add(LeakyReLU(0.01))\n",
    "model.add(Dense(200))\n",
    "model.add(LeakyReLU(0.01))\n",
    "model.add(Dense(10,activation='softmax'))\n",
    "\n",
    "model.compile(optimizer='sgd',loss='categorical_crossentropy',metrics=['accuracy'])\n",
    "model.fit(x_train,t_train,epochs=30,batch_size=100,verbose=2)\n",
    "loss,acc=model.evaluate(x_test,t_test,verbose=0)\n",
    "print('test_loss: {:.3f}, test_acc: {:.3f}'.format(loss,acc))"
   ]
  },
  {
   "cell_type": "code",
   "execution_count": 21,
   "metadata": {},
   "outputs": [
    {
     "name": "stdout",
     "output_type": "stream",
     "text": [
      "test_loss: 0.098, test_acc: 0.970\n"
     ]
    }
   ],
   "source": [
    "loss,acc=model.evaluate(x_test,t_test,verbose=0)\n",
    "print('test_loss: {:.3f}, test_acc: {:.3f}'.format(loss,acc))"
   ]
  },
  {
   "cell_type": "code",
   "execution_count": null,
   "metadata": {},
   "outputs": [],
   "source": []
  }
 ],
 "metadata": {
  "kernelspec": {
   "display_name": "Python 3",
   "language": "python",
   "name": "python3"
  },
  "language_info": {
   "codemirror_mode": {
    "name": "ipython",
    "version": 3
   },
   "file_extension": ".py",
   "mimetype": "text/x-python",
   "name": "python",
   "nbconvert_exporter": "python",
   "pygments_lexer": "ipython3",
   "version": "3.7.7"
  }
 },
 "nbformat": 4,
 "nbformat_minor": 4
}
