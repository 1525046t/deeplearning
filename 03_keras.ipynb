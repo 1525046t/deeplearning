{
 "cells": [
  {
   "cell_type": "code",
   "execution_count": 37,
   "metadata": {},
   "outputs": [],
   "source": [
    "import numpy as np\n",
    "import matplotlib.pyplot as plt\n",
    "from sklearn.model_selection import train_test_split\n",
    "import tensorflow as tf\n",
    "from tensorflow.keras import datasets\n",
    "from tensorflow.keras.models import Sequential\n",
    "from tensorflow.keras.layers import Dense,Dropout"
   ]
  },
  {
   "cell_type": "code",
   "execution_count": 38,
   "metadata": {},
   "outputs": [],
   "source": [
    "mnist=datasets.mnist\n",
    "(x_train,t_train),(x_test,t_test)=mnist.load_data()\n",
    "\n",
    "x_train=(x_train.reshape(-1,784)/255).astype(np.float32)\n",
    "x_test=(x_test.reshape(-1,784)/255).astype(np.float32)\n",
    "\n",
    "x_train,x_val,t_train,t_val=train_test_split(x_train,t_train,test_size=0.2)"
   ]
  },
  {
   "cell_type": "code",
   "execution_count": 39,
   "metadata": {},
   "outputs": [],
   "source": [
    "model=Sequential()\n",
    "model.add(Dense(200,activation='relu'))\n",
    "model.add(Dropout(0.5))\n",
    "model.add(Dense(200,activation='relu'))\n",
    "model.add(Dropout(0.5))\n",
    "model.add(Dense(200,activation='relu'))\n",
    "model.add(Dropout(0.5))\n",
    "model.add(Dense(10,activation='softmax'))"
   ]
  },
  {
   "cell_type": "code",
   "execution_count": 40,
   "metadata": {},
   "outputs": [
    {
     "name": "stdout",
     "output_type": "stream",
     "text": [
      "Train on 48000 samples, validate on 12000 samples\n",
      "Epoch 1/100\n",
      "48000/48000 - 1s - loss: 2.1920 - accuracy: 0.2096 - val_loss: 1.7784 - val_accuracy: 0.6437\n",
      "Epoch 2/100\n",
      "48000/48000 - 0s - loss: 1.6269 - accuracy: 0.4598 - val_loss: 0.9297 - val_accuracy: 0.7699\n",
      "Epoch 3/100\n",
      "48000/48000 - 0s - loss: 1.1547 - accuracy: 0.6111 - val_loss: 0.6340 - val_accuracy: 0.8274\n",
      "Epoch 4/100\n",
      "48000/48000 - 0s - loss: 0.9160 - accuracy: 0.6961 - val_loss: 0.5069 - val_accuracy: 0.8571\n",
      "Epoch 5/100\n",
      "48000/48000 - 0s - loss: 0.7809 - accuracy: 0.7470 - val_loss: 0.4342 - val_accuracy: 0.8758\n",
      "Epoch 6/100\n",
      "48000/48000 - 0s - loss: 0.6899 - accuracy: 0.7825 - val_loss: 0.3913 - val_accuracy: 0.8860\n",
      "Epoch 7/100\n",
      "48000/48000 - 0s - loss: 0.6254 - accuracy: 0.8041 - val_loss: 0.3581 - val_accuracy: 0.8972\n",
      "Epoch 8/100\n",
      "48000/48000 - 1s - loss: 0.5851 - accuracy: 0.8213 - val_loss: 0.3363 - val_accuracy: 0.9031\n",
      "Epoch 9/100\n",
      "48000/48000 - 1s - loss: 0.5406 - accuracy: 0.8377 - val_loss: 0.3169 - val_accuracy: 0.9081\n",
      "Epoch 10/100\n",
      "48000/48000 - 1s - loss: 0.5198 - accuracy: 0.8435 - val_loss: 0.3004 - val_accuracy: 0.9111\n",
      "Epoch 11/100\n",
      "48000/48000 - 1s - loss: 0.4884 - accuracy: 0.8555 - val_loss: 0.2890 - val_accuracy: 0.9137\n",
      "Epoch 12/100\n",
      "48000/48000 - 1s - loss: 0.4688 - accuracy: 0.8629 - val_loss: 0.2765 - val_accuracy: 0.9170\n",
      "Epoch 13/100\n",
      "48000/48000 - 1s - loss: 0.4550 - accuracy: 0.8675 - val_loss: 0.2684 - val_accuracy: 0.9184\n",
      "Epoch 14/100\n",
      "48000/48000 - 1s - loss: 0.4324 - accuracy: 0.8744 - val_loss: 0.2589 - val_accuracy: 0.9217\n",
      "Epoch 15/100\n",
      "48000/48000 - 1s - loss: 0.4134 - accuracy: 0.8776 - val_loss: 0.2497 - val_accuracy: 0.9238\n",
      "Epoch 16/100\n",
      "48000/48000 - 1s - loss: 0.3961 - accuracy: 0.8839 - val_loss: 0.2431 - val_accuracy: 0.9254\n",
      "Epoch 17/100\n",
      "48000/48000 - 1s - loss: 0.3892 - accuracy: 0.8871 - val_loss: 0.2353 - val_accuracy: 0.9276\n",
      "Epoch 18/100\n",
      "48000/48000 - 1s - loss: 0.3759 - accuracy: 0.8913 - val_loss: 0.2301 - val_accuracy: 0.9297\n",
      "Epoch 19/100\n",
      "48000/48000 - 1s - loss: 0.3661 - accuracy: 0.8954 - val_loss: 0.2215 - val_accuracy: 0.9317\n",
      "Epoch 20/100\n",
      "48000/48000 - 1s - loss: 0.3548 - accuracy: 0.8991 - val_loss: 0.2171 - val_accuracy: 0.9331\n",
      "Epoch 21/100\n",
      "48000/48000 - 1s - loss: 0.3494 - accuracy: 0.9009 - val_loss: 0.2110 - val_accuracy: 0.9350\n",
      "Epoch 22/100\n",
      "48000/48000 - 1s - loss: 0.3343 - accuracy: 0.9046 - val_loss: 0.2058 - val_accuracy: 0.9369\n",
      "Epoch 23/100\n",
      "48000/48000 - 1s - loss: 0.3319 - accuracy: 0.9061 - val_loss: 0.2033 - val_accuracy: 0.9383\n",
      "Epoch 24/100\n",
      "48000/48000 - 1s - loss: 0.3179 - accuracy: 0.9078 - val_loss: 0.2001 - val_accuracy: 0.9399\n",
      "Epoch 25/100\n",
      "48000/48000 - 1s - loss: 0.3148 - accuracy: 0.9097 - val_loss: 0.1955 - val_accuracy: 0.9412\n",
      "Epoch 26/100\n",
      "48000/48000 - 1s - loss: 0.3099 - accuracy: 0.9132 - val_loss: 0.1915 - val_accuracy: 0.9423\n",
      "Epoch 27/100\n",
      "48000/48000 - 1s - loss: 0.2980 - accuracy: 0.9151 - val_loss: 0.1860 - val_accuracy: 0.9446\n",
      "Epoch 28/100\n",
      "48000/48000 - 1s - loss: 0.2932 - accuracy: 0.9164 - val_loss: 0.1854 - val_accuracy: 0.9439\n",
      "Epoch 29/100\n",
      "48000/48000 - 1s - loss: 0.2930 - accuracy: 0.9177 - val_loss: 0.1819 - val_accuracy: 0.9448\n",
      "Epoch 30/100\n",
      "48000/48000 - 1s - loss: 0.2855 - accuracy: 0.9193 - val_loss: 0.1790 - val_accuracy: 0.9463\n",
      "Epoch 31/100\n",
      "48000/48000 - 1s - loss: 0.2803 - accuracy: 0.9192 - val_loss: 0.1766 - val_accuracy: 0.9477\n",
      "Epoch 32/100\n",
      "48000/48000 - 0s - loss: 0.2733 - accuracy: 0.9233 - val_loss: 0.1732 - val_accuracy: 0.9485\n",
      "Epoch 33/100\n",
      "48000/48000 - 1s - loss: 0.2676 - accuracy: 0.9237 - val_loss: 0.1719 - val_accuracy: 0.9482\n",
      "Epoch 34/100\n",
      "48000/48000 - 1s - loss: 0.2657 - accuracy: 0.9255 - val_loss: 0.1689 - val_accuracy: 0.9495\n",
      "Epoch 35/100\n",
      "48000/48000 - 0s - loss: 0.2590 - accuracy: 0.9273 - val_loss: 0.1660 - val_accuracy: 0.9502\n",
      "Epoch 36/100\n",
      "48000/48000 - 0s - loss: 0.2612 - accuracy: 0.9257 - val_loss: 0.1624 - val_accuracy: 0.9507\n",
      "Epoch 37/100\n",
      "48000/48000 - 0s - loss: 0.2520 - accuracy: 0.9300 - val_loss: 0.1621 - val_accuracy: 0.9507\n",
      "Epoch 38/100\n",
      "48000/48000 - 1s - loss: 0.2488 - accuracy: 0.9297 - val_loss: 0.1606 - val_accuracy: 0.9507\n",
      "Epoch 39/100\n",
      "48000/48000 - 0s - loss: 0.2452 - accuracy: 0.9303 - val_loss: 0.1579 - val_accuracy: 0.9518\n",
      "Epoch 40/100\n",
      "48000/48000 - 0s - loss: 0.2435 - accuracy: 0.9312 - val_loss: 0.1558 - val_accuracy: 0.9529\n",
      "Epoch 41/100\n",
      "48000/48000 - 0s - loss: 0.2380 - accuracy: 0.9329 - val_loss: 0.1542 - val_accuracy: 0.9528\n",
      "Epoch 42/100\n",
      "48000/48000 - 1s - loss: 0.2374 - accuracy: 0.9333 - val_loss: 0.1526 - val_accuracy: 0.9534\n",
      "Epoch 43/100\n",
      "48000/48000 - 1s - loss: 0.2281 - accuracy: 0.9360 - val_loss: 0.1529 - val_accuracy: 0.9543\n",
      "Epoch 44/100\n",
      "48000/48000 - 1s - loss: 0.2234 - accuracy: 0.9358 - val_loss: 0.1504 - val_accuracy: 0.9542\n",
      "Epoch 45/100\n",
      "48000/48000 - 1s - loss: 0.2274 - accuracy: 0.9355 - val_loss: 0.1480 - val_accuracy: 0.9556\n",
      "Epoch 46/100\n",
      "48000/48000 - 1s - loss: 0.2219 - accuracy: 0.9372 - val_loss: 0.1474 - val_accuracy: 0.9556\n",
      "Epoch 47/100\n",
      "48000/48000 - 1s - loss: 0.2212 - accuracy: 0.9377 - val_loss: 0.1456 - val_accuracy: 0.9567\n",
      "Epoch 48/100\n",
      "48000/48000 - 1s - loss: 0.2219 - accuracy: 0.9375 - val_loss: 0.1457 - val_accuracy: 0.9566\n",
      "Epoch 49/100\n",
      "48000/48000 - 1s - loss: 0.2167 - accuracy: 0.9381 - val_loss: 0.1438 - val_accuracy: 0.9572\n",
      "Epoch 50/100\n",
      "48000/48000 - 0s - loss: 0.2153 - accuracy: 0.9386 - val_loss: 0.1426 - val_accuracy: 0.9576\n",
      "Epoch 51/100\n",
      "48000/48000 - 1s - loss: 0.2080 - accuracy: 0.9402 - val_loss: 0.1408 - val_accuracy: 0.9583\n",
      "Epoch 52/100\n",
      "48000/48000 - 1s - loss: 0.2040 - accuracy: 0.9431 - val_loss: 0.1420 - val_accuracy: 0.9577\n",
      "Epoch 53/100\n",
      "48000/48000 - 1s - loss: 0.2049 - accuracy: 0.9419 - val_loss: 0.1386 - val_accuracy: 0.9590\n",
      "Epoch 54/100\n",
      "48000/48000 - 1s - loss: 0.2042 - accuracy: 0.9419 - val_loss: 0.1374 - val_accuracy: 0.9596\n",
      "Epoch 55/100\n",
      "48000/48000 - 1s - loss: 0.1999 - accuracy: 0.9432 - val_loss: 0.1363 - val_accuracy: 0.9592\n",
      "Epoch 56/100\n",
      "48000/48000 - 1s - loss: 0.1969 - accuracy: 0.9434 - val_loss: 0.1348 - val_accuracy: 0.9597\n",
      "Epoch 57/100\n",
      "48000/48000 - 1s - loss: 0.1983 - accuracy: 0.9452 - val_loss: 0.1346 - val_accuracy: 0.9602\n",
      "Epoch 58/100\n",
      "48000/48000 - 1s - loss: 0.1996 - accuracy: 0.9440 - val_loss: 0.1343 - val_accuracy: 0.9607\n",
      "Epoch 59/100\n",
      "48000/48000 - 1s - loss: 0.1980 - accuracy: 0.9443 - val_loss: 0.1331 - val_accuracy: 0.9596\n",
      "Epoch 60/100\n",
      "48000/48000 - 1s - loss: 0.1933 - accuracy: 0.9445 - val_loss: 0.1309 - val_accuracy: 0.9615\n",
      "Epoch 61/100\n",
      "48000/48000 - 1s - loss: 0.1903 - accuracy: 0.9460 - val_loss: 0.1317 - val_accuracy: 0.9610\n",
      "Epoch 62/100\n",
      "48000/48000 - 1s - loss: 0.1863 - accuracy: 0.9473 - val_loss: 0.1308 - val_accuracy: 0.9614\n",
      "Epoch 63/100\n",
      "48000/48000 - 1s - loss: 0.1861 - accuracy: 0.9478 - val_loss: 0.1301 - val_accuracy: 0.9619\n",
      "Epoch 64/100\n",
      "48000/48000 - 1s - loss: 0.1818 - accuracy: 0.9478 - val_loss: 0.1283 - val_accuracy: 0.9622\n",
      "Epoch 65/100\n",
      "48000/48000 - 1s - loss: 0.1844 - accuracy: 0.9478 - val_loss: 0.1283 - val_accuracy: 0.9621\n",
      "Epoch 66/100\n",
      "48000/48000 - 1s - loss: 0.1810 - accuracy: 0.9492 - val_loss: 0.1274 - val_accuracy: 0.9626\n",
      "Epoch 67/100\n",
      "48000/48000 - 1s - loss: 0.1778 - accuracy: 0.9499 - val_loss: 0.1259 - val_accuracy: 0.9633\n",
      "Epoch 68/100\n",
      "48000/48000 - 1s - loss: 0.1791 - accuracy: 0.9492 - val_loss: 0.1262 - val_accuracy: 0.9626\n",
      "Epoch 69/100\n",
      "48000/48000 - 1s - loss: 0.1761 - accuracy: 0.9497 - val_loss: 0.1258 - val_accuracy: 0.9635\n",
      "Epoch 70/100\n",
      "48000/48000 - 1s - loss: 0.1761 - accuracy: 0.9501 - val_loss: 0.1245 - val_accuracy: 0.9643\n",
      "Epoch 71/100\n",
      "48000/48000 - 1s - loss: 0.1757 - accuracy: 0.9506 - val_loss: 0.1238 - val_accuracy: 0.9641\n",
      "Epoch 72/100\n",
      "48000/48000 - 1s - loss: 0.1714 - accuracy: 0.9507 - val_loss: 0.1235 - val_accuracy: 0.9642\n",
      "Epoch 73/100\n",
      "48000/48000 - 1s - loss: 0.1729 - accuracy: 0.9512 - val_loss: 0.1241 - val_accuracy: 0.9639\n",
      "Epoch 74/100\n",
      "48000/48000 - 1s - loss: 0.1659 - accuracy: 0.9528 - val_loss: 0.1234 - val_accuracy: 0.9637\n",
      "Epoch 75/100\n",
      "48000/48000 - 1s - loss: 0.1658 - accuracy: 0.9528 - val_loss: 0.1214 - val_accuracy: 0.9648\n",
      "Epoch 76/100\n",
      "48000/48000 - 1s - loss: 0.1673 - accuracy: 0.9521 - val_loss: 0.1211 - val_accuracy: 0.9651\n",
      "Epoch 77/100\n",
      "48000/48000 - 1s - loss: 0.1644 - accuracy: 0.9532 - val_loss: 0.1210 - val_accuracy: 0.9647\n"
     ]
    },
    {
     "name": "stdout",
     "output_type": "stream",
     "text": [
      "Epoch 78/100\n",
      "48000/48000 - 1s - loss: 0.1596 - accuracy: 0.9549 - val_loss: 0.1209 - val_accuracy: 0.9644\n",
      "Epoch 79/100\n",
      "48000/48000 - 1s - loss: 0.1612 - accuracy: 0.9533 - val_loss: 0.1198 - val_accuracy: 0.9653\n",
      "Epoch 80/100\n",
      "48000/48000 - 1s - loss: 0.1598 - accuracy: 0.9542 - val_loss: 0.1201 - val_accuracy: 0.9657\n",
      "Epoch 81/100\n",
      "48000/48000 - 1s - loss: 0.1585 - accuracy: 0.9552 - val_loss: 0.1207 - val_accuracy: 0.9652\n",
      "Epoch 82/100\n",
      "48000/48000 - 1s - loss: 0.1627 - accuracy: 0.9538 - val_loss: 0.1194 - val_accuracy: 0.9654\n",
      "Epoch 83/100\n",
      "48000/48000 - 1s - loss: 0.1584 - accuracy: 0.9550 - val_loss: 0.1180 - val_accuracy: 0.9653\n",
      "Epoch 84/100\n",
      "48000/48000 - 1s - loss: 0.1523 - accuracy: 0.9571 - val_loss: 0.1190 - val_accuracy: 0.9654\n",
      "Epoch 85/100\n",
      "48000/48000 - 1s - loss: 0.1561 - accuracy: 0.9555 - val_loss: 0.1170 - val_accuracy: 0.9666\n",
      "Epoch 86/100\n",
      "48000/48000 - 1s - loss: 0.1551 - accuracy: 0.9557 - val_loss: 0.1157 - val_accuracy: 0.9662\n",
      "Epoch 87/100\n",
      "48000/48000 - 1s - loss: 0.1521 - accuracy: 0.9566 - val_loss: 0.1156 - val_accuracy: 0.9668\n",
      "Epoch 88/100\n",
      "48000/48000 - 1s - loss: 0.1539 - accuracy: 0.9553 - val_loss: 0.1162 - val_accuracy: 0.9663\n",
      "Epoch 89/100\n",
      "48000/48000 - 1s - loss: 0.1525 - accuracy: 0.9567 - val_loss: 0.1178 - val_accuracy: 0.9654\n",
      "Epoch 90/100\n",
      "48000/48000 - 1s - loss: 0.1508 - accuracy: 0.9567 - val_loss: 0.1152 - val_accuracy: 0.9664\n",
      "Epoch 91/100\n",
      "48000/48000 - 1s - loss: 0.1494 - accuracy: 0.9573 - val_loss: 0.1145 - val_accuracy: 0.9669\n",
      "Epoch 92/100\n",
      "48000/48000 - 1s - loss: 0.1466 - accuracy: 0.9583 - val_loss: 0.1174 - val_accuracy: 0.9666\n",
      "Epoch 93/100\n",
      "48000/48000 - 1s - loss: 0.1441 - accuracy: 0.9588 - val_loss: 0.1155 - val_accuracy: 0.9663\n",
      "Epoch 94/100\n",
      "48000/48000 - 1s - loss: 0.1455 - accuracy: 0.9580 - val_loss: 0.1153 - val_accuracy: 0.9670\n",
      "Epoch 95/100\n",
      "48000/48000 - 1s - loss: 0.1447 - accuracy: 0.9585 - val_loss: 0.1136 - val_accuracy: 0.9675\n",
      "Epoch 96/100\n",
      "48000/48000 - 1s - loss: 0.1416 - accuracy: 0.9597 - val_loss: 0.1134 - val_accuracy: 0.9677\n",
      "Epoch 97/100\n",
      "48000/48000 - 1s - loss: 0.1395 - accuracy: 0.9597 - val_loss: 0.1122 - val_accuracy: 0.9674\n",
      "Epoch 98/100\n",
      "48000/48000 - 1s - loss: 0.1413 - accuracy: 0.9590 - val_loss: 0.1126 - val_accuracy: 0.9678\n",
      "Epoch 99/100\n",
      "48000/48000 - 1s - loss: 0.1407 - accuracy: 0.9600 - val_loss: 0.1115 - val_accuracy: 0.9682\n",
      "Epoch 100/100\n",
      "48000/48000 - 1s - loss: 0.1385 - accuracy: 0.9602 - val_loss: 0.1117 - val_accuracy: 0.9678\n"
     ]
    }
   ],
   "source": [
    "model.compile(optimizer='sgd',loss='sparse_categorical_crossentropy',metrics=['accuracy'])\n",
    "hist=model.fit(x_train,t_train,epochs=100,batch_size=128,verbose=2,validation_data=(x_val,t_val))"
   ]
  },
  {
   "cell_type": "code",
   "execution_count": 41,
   "metadata": {},
   "outputs": [
    {
     "data": {
      "image/png": "[encoded data removed]",
      "text/plain": [
       "<Figure size 432x288 with 1 Axes>"
      ]
     },
     "metadata": {
      "needs_background": "light"
     },
     "output_type": "display_data"
    },
    {
     "data": {
      "text/plain": [
       "[<matplotlib.lines.Line2D at 0x14f92004c5d0>]"
      ]
     },
     "execution_count": 41,
     "metadata": {},
     "output_type": "execute_result"
    },
    {
     "data": {
      "image/png": "[encoded data removed]",
      "text/plain": [
       "<Figure size 432x288 with 1 Axes>"
      ]
     },
     "metadata": {
      "needs_background": "light"
     },
     "output_type": "display_data"
    }
   ],
   "source": [
    "val_loss=hist.history['val_loss']\n",
    "val_acc=hist.history['val_accuracy']\n",
    "plt.figure()\n",
    "plt.rc('font',family='serif')\n",
    "plt.plot(range(len(val_loss)),val_loss,color='black',linewidth=1)\n",
    "\n",
    "plt.xlabel('epoch')\n",
    "plt.ylabel('loss')\n",
    "# plt.savefig('output.jpg')\n",
    "plt.show()\n",
    "plt.ylabel('accuracy')\n",
    "plt.plot(range(len(val_acc)),val_acc,color='red',linewidth=1)"
   ]
  },
  {
   "cell_type": "code",
   "execution_count": 42,
   "metadata": {},
   "outputs": [
    {
     "data": {
      "text/plain": [
       "<Figure size 432x288 with 0 Axes>"
      ]
     },
     "metadata": {},
     "output_type": "display_data"
    },
    {
     "data": {
      "image/png": "[encoded data removed]",
      "text/plain": [
       "<Figure size 432x288 with 2 Axes>"
      ]
     },
     "metadata": {
      "needs_background": "light"
     },
     "output_type": "display_data"
    }
   ],
   "source": [
    "val_loss=hist.history['val_loss']\n",
    "val_acc=hist.history['val_accuracy']\n",
    "\n",
    "fig=plt.figure()\n",
    "fig, ax1 = plt.subplots()\n",
    "ax2 = ax1.twinx() # 二つ目の軸を定義\n",
    "\n",
    "ax1.set_ylabel('loss') # ラベルを設定\n",
    "ax2.set_ylabel('accuracy') \n",
    "#ax2.set_ylim(0,1)\n",
    "\n",
    "plt.rc('font',family='serif')\n",
    "ax1.plot(range(len(val_loss)),val_loss,color='black',linewidth=1)\n",
    "ax2.plot(range(len(val_acc)),val_acc,color='red',linewidth=1)\n",
    "plt.xlabel('epoch')\n",
    "# plt.savefig('output.jpg')\n",
    "plt.show()"
   ]
  },
  {
   "cell_type": "code",
   "execution_count": 43,
   "metadata": {},
   "outputs": [
    {
     "name": "stdout",
     "output_type": "stream",
     "text": [
      "test_loss: 0.101, test_acc: 0.972\n"
     ]
    }
   ],
   "source": [
    "loss,acc=model.evaluate(x_test,t_test,verbose=0)\n",
    "print('test_loss: {:.3f}, test_acc: {:.3f}'.format(loss,acc))"
   ]
  },
  {
   "cell_type": "code",
   "execution_count": null,
   "metadata": {},
   "outputs": [],
   "source": []
  }
 ],
 "metadata": {
  "kernelspec": {
   "display_name": "Python 3",
   "language": "python",
   "name": "python3"
  },
  "language_info": {
   "codemirror_mode": {
    "name": "ipython",
    "version": 3
   },
   "file_extension": ".py",
   "mimetype": "text/x-python",
   "name": "python",
   "nbconvert_exporter": "python",
   "pygments_lexer": "ipython3",
   "version": "3.7.7"
  }
 },
 "nbformat": 4,
 "nbformat_minor": 4
}
