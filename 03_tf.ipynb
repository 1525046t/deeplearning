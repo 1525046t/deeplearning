{
 "cells": [
  {
   "cell_type": "code",
   "execution_count": 26,
   "metadata": {},
   "outputs": [],
   "source": [
    "import numpy as np\n",
    "import sys\n",
    "import matplotlib.pyplot as plt\n",
    "from sklearn.model_selection import train_test_split\n",
    "from sklearn.utils import shuffle\n",
    "import tensorflow as tf\n",
    "from tensorflow.keras import datasets\n",
    "from tensorflow.keras.models import Model\n",
    "from tensorflow.keras.layers import Dense, Dropout\n",
    "from tensorflow.keras import optimizers\n",
    "from tensorflow.keras import losses\n",
    "from tensorflow.keras import metrics\n",
    "\n",
    "\n",
    "class DNN(Model):\n",
    "    def __init__(self, hidden_dim, output_dim):\n",
    "        super().__init__()\n",
    "        self.l1 = Dense(hidden_dim, activation='relu')\n",
    "        self.d1 = Dropout(0.5)\n",
    "        self.l2 = Dense(hidden_dim, activation='relu')\n",
    "        self.d2 = Dropout(0.5)\n",
    "        self.l3 = Dense(hidden_dim, activation='relu')\n",
    "        self.d3 = Dropout(0.5)\n",
    "        self.l4 = Dense(output_dim, activation='softmax')\n",
    "\n",
    "        self.ls = [self.l1, self.d1,\n",
    "                   self.l2, self.d2,\n",
    "                   self.l3, self.d3,\n",
    "                   self.l4]\n",
    "\n",
    "    def call(self, x):\n",
    "        for layer in self.ls:\n",
    "            x = layer(x)\n",
    "\n",
    "        return x\n",
    "\n",
    "\n",
    "if __name__ == '__main__':\n",
    "    np.random.seed(123)\n",
    "    tf.random.set_seed(123)\n",
    "\n",
    "    '''\n",
    "    1. データの準備\n",
    "    '''\n",
    "    mnist = datasets.mnist\n",
    "    (x_train, t_train), (x_test, t_test) = mnist.load_data()\n",
    "\n",
    "    x_train = (x_train.reshape(-1, 784) / 255).astype(np.float32)\n",
    "    x_test = (x_test.reshape(-1, 784) / 255).astype(np.float32)\n",
    "\n",
    "    x_train, x_val, t_train, t_val = \\\n",
    "        train_test_split(x_train, t_train, test_size=0.2)\n",
    "\n",
    "    '''\n",
    "    2. モデルの構築\n",
    "    '''\n",
    "    model = DNN(200, 10)"
   ]
  },
  {
   "cell_type": "code",
   "execution_count": 27,
   "metadata": {},
   "outputs": [],
   "source": [
    "criterion=losses.SparseCategoricalCrossentropy()\n",
    "optimizer=optimizers.SGD(learning_rate=0.01)\n",
    "train_loss=metrics.Mean()\n",
    "train_acc=metrics.SparseCategoricalAccuracy()\n",
    "val_loss=metrics.Mean()\n",
    "val_acc=metrics.SparseCategoricalAccuracy()\n",
    "\n",
    "def compute_loss(t,y):\n",
    "    return criterion(t,y)\n",
    "\n",
    "def train_step(x,t):\n",
    "    with tf.GradientTape() as tape:\n",
    "        preds=model(x)\n",
    "        loss=compute_loss(t,preds)\n",
    "    grads=tape.gradient(loss,model.trainable_variables)\n",
    "    optimizer.apply_gradients(zip(grads,model.trainable_variables))\n",
    "    train_loss(loss)\n",
    "    train_acc=(t,preds)\n",
    "    return loss\n",
    "\n",
    "def val_step(x,t):\n",
    "    preds=model(x)\n",
    "    loss=compute_loss(t,preds)\n",
    "    val_loss(loss)\n",
    "    val_acc(t,preds)"
   ]
  },
  {
   "cell_type": "code",
   "execution_count": 28,
   "metadata": {},
   "outputs": [
    {
     "name": "stdout",
     "output_type": "stream",
     "text": [
      "epoch: 1, loss: 1.22, acc: 0.000, val_loss: 0.548, val_acc: 0.857\n",
      "epoch: 2, loss: 0.829, acc: 0.000, val_loss: 0.465, val_acc: 0.873\n",
      "epoch: 3, loss: 0.669, acc: 0.000, val_loss: 0.42, val_acc: 0.883\n",
      "epoch: 4, loss: 0.579, acc: 0.000, val_loss: 0.39, val_acc: 0.890\n",
      "epoch: 5, loss: 0.52, acc: 0.000, val_loss: 0.368, val_acc: 0.896\n",
      "epoch: 6, loss: 0.477, acc: 0.000, val_loss: 0.35, val_acc: 0.900\n",
      "epoch: 7, loss: 0.443, acc: 0.000, val_loss: 0.335, val_acc: 0.904\n",
      "epoch: 8, loss: 0.417, acc: 0.000, val_loss: 0.323, val_acc: 0.907\n",
      "epoch: 9, loss: 0.394, acc: 0.000, val_loss: 0.312, val_acc: 0.910\n",
      "epoch: 10, loss: 0.375, acc: 0.000, val_loss: 0.302, val_acc: 0.913\n",
      "epoch: 11, loss: 0.359, acc: 0.000, val_loss: 0.293, val_acc: 0.915\n",
      "epoch: 12, loss: 0.344, acc: 0.000, val_loss: 0.285, val_acc: 0.918\n",
      "epoch: 13, loss: 0.331, acc: 0.000, val_loss: 0.277, val_acc: 0.920\n",
      "epoch: 14, loss: 0.32, acc: 0.000, val_loss: 0.27, val_acc: 0.921\n",
      "epoch: 15, loss: 0.309, acc: 0.000, val_loss: 0.264, val_acc: 0.923\n",
      "epoch: 16, loss: 0.299, acc: 0.000, val_loss: 0.258, val_acc: 0.925\n",
      "epoch: 17, loss: 0.29, acc: 0.000, val_loss: 0.252, val_acc: 0.926\n",
      "epoch: 18, loss: 0.282, acc: 0.000, val_loss: 0.247, val_acc: 0.928\n",
      "epoch: 19, loss: 0.274, acc: 0.000, val_loss: 0.242, val_acc: 0.929\n",
      "epoch: 20, loss: 0.267, acc: 0.000, val_loss: 0.237, val_acc: 0.930\n",
      "epoch: 21, loss: 0.26, acc: 0.000, val_loss: 0.232, val_acc: 0.932\n",
      "epoch: 22, loss: 0.254, acc: 0.000, val_loss: 0.228, val_acc: 0.933\n",
      "epoch: 23, loss: 0.248, acc: 0.000, val_loss: 0.224, val_acc: 0.934\n",
      "epoch: 24, loss: 0.242, acc: 0.000, val_loss: 0.22, val_acc: 0.935\n",
      "epoch: 25, loss: 0.237, acc: 0.000, val_loss: 0.217, val_acc: 0.936\n",
      "epoch: 26, loss: 0.231, acc: 0.000, val_loss: 0.213, val_acc: 0.937\n",
      "epoch: 27, loss: 0.226, acc: 0.000, val_loss: 0.21, val_acc: 0.938\n",
      "epoch: 28, loss: 0.222, acc: 0.000, val_loss: 0.207, val_acc: 0.939\n",
      "epoch: 29, loss: 0.217, acc: 0.000, val_loss: 0.204, val_acc: 0.940\n",
      "epoch: 30, loss: 0.213, acc: 0.000, val_loss: 0.201, val_acc: 0.941\n",
      "epoch: 31, loss: 0.209, acc: 0.000, val_loss: 0.198, val_acc: 0.941\n",
      "epoch: 32, loss: 0.205, acc: 0.000, val_loss: 0.195, val_acc: 0.942\n",
      "epoch: 33, loss: 0.201, acc: 0.000, val_loss: 0.193, val_acc: 0.943\n",
      "epoch: 34, loss: 0.198, acc: 0.000, val_loss: 0.19, val_acc: 0.944\n",
      "epoch: 35, loss: 0.194, acc: 0.000, val_loss: 0.188, val_acc: 0.944\n",
      "epoch: 36, loss: 0.191, acc: 0.000, val_loss: 0.186, val_acc: 0.945\n",
      "epoch: 37, loss: 0.187, acc: 0.000, val_loss: 0.183, val_acc: 0.946\n",
      "epoch: 38, loss: 0.184, acc: 0.000, val_loss: 0.181, val_acc: 0.946\n",
      "epoch: 39, loss: 0.181, acc: 0.000, val_loss: 0.179, val_acc: 0.947\n",
      "epoch: 40, loss: 0.178, acc: 0.000, val_loss: 0.177, val_acc: 0.947\n",
      "epoch: 41, loss: 0.175, acc: 0.000, val_loss: 0.175, val_acc: 0.948\n",
      "epoch: 42, loss: 0.173, acc: 0.000, val_loss: 0.173, val_acc: 0.948\n",
      "epoch: 43, loss: 0.17, acc: 0.000, val_loss: 0.172, val_acc: 0.949\n",
      "epoch: 44, loss: 0.167, acc: 0.000, val_loss: 0.17, val_acc: 0.949\n",
      "epoch: 45, loss: 0.165, acc: 0.000, val_loss: 0.168, val_acc: 0.950\n",
      "epoch: 46, loss: 0.162, acc: 0.000, val_loss: 0.167, val_acc: 0.950\n",
      "epoch: 47, loss: 0.16, acc: 0.000, val_loss: 0.165, val_acc: 0.951\n",
      "epoch: 48, loss: 0.158, acc: 0.000, val_loss: 0.164, val_acc: 0.951\n",
      "epoch: 49, loss: 0.155, acc: 0.000, val_loss: 0.162, val_acc: 0.952\n",
      "epoch: 50, loss: 0.153, acc: 0.000, val_loss: 0.161, val_acc: 0.952\n",
      "epoch: 51, loss: 0.151, acc: 0.000, val_loss: 0.16, val_acc: 0.952\n",
      "epoch: 52, loss: 0.149, acc: 0.000, val_loss: 0.158, val_acc: 0.953\n",
      "epoch: 53, loss: 0.147, acc: 0.000, val_loss: 0.157, val_acc: 0.953\n",
      "epoch: 54, loss: 0.145, acc: 0.000, val_loss: 0.156, val_acc: 0.953\n",
      "epoch: 55, loss: 0.143, acc: 0.000, val_loss: 0.155, val_acc: 0.954\n",
      "epoch: 56, loss: 0.141, acc: 0.000, val_loss: 0.153, val_acc: 0.954\n",
      "epoch: 57, loss: 0.139, acc: 0.000, val_loss: 0.152, val_acc: 0.954\n",
      "epoch: 58, loss: 0.138, acc: 0.000, val_loss: 0.151, val_acc: 0.955\n",
      "epoch: 59, loss: 0.136, acc: 0.000, val_loss: 0.15, val_acc: 0.955\n",
      "epoch: 60, loss: 0.134, acc: 0.000, val_loss: 0.149, val_acc: 0.955\n",
      "epoch: 61, loss: 0.133, acc: 0.000, val_loss: 0.148, val_acc: 0.955\n",
      "epoch: 62, loss: 0.131, acc: 0.000, val_loss: 0.147, val_acc: 0.956\n",
      "epoch: 63, loss: 0.129, acc: 0.000, val_loss: 0.146, val_acc: 0.956\n",
      "epoch: 64, loss: 0.128, acc: 0.000, val_loss: 0.145, val_acc: 0.956\n",
      "epoch: 65, loss: 0.126, acc: 0.000, val_loss: 0.144, val_acc: 0.957\n",
      "epoch: 66, loss: 0.125, acc: 0.000, val_loss: 0.143, val_acc: 0.957\n",
      "epoch: 67, loss: 0.123, acc: 0.000, val_loss: 0.143, val_acc: 0.957\n",
      "epoch: 68, loss: 0.122, acc: 0.000, val_loss: 0.142, val_acc: 0.957\n",
      "epoch: 69, loss: 0.121, acc: 0.000, val_loss: 0.141, val_acc: 0.957\n",
      "epoch: 70, loss: 0.119, acc: 0.000, val_loss: 0.14, val_acc: 0.958\n",
      "epoch: 71, loss: 0.118, acc: 0.000, val_loss: 0.139, val_acc: 0.958\n",
      "epoch: 72, loss: 0.116, acc: 0.000, val_loss: 0.139, val_acc: 0.958\n",
      "epoch: 73, loss: 0.115, acc: 0.000, val_loss: 0.138, val_acc: 0.958\n",
      "epoch: 74, loss: 0.114, acc: 0.000, val_loss: 0.137, val_acc: 0.958\n",
      "epoch: 75, loss: 0.113, acc: 0.000, val_loss: 0.137, val_acc: 0.959\n",
      "epoch: 76, loss: 0.111, acc: 0.000, val_loss: 0.136, val_acc: 0.959\n",
      "epoch: 77, loss: 0.11, acc: 0.000, val_loss: 0.135, val_acc: 0.959\n",
      "epoch: 78, loss: 0.109, acc: 0.000, val_loss: 0.135, val_acc: 0.959\n",
      "epoch: 79, loss: 0.108, acc: 0.000, val_loss: 0.134, val_acc: 0.959\n",
      "epoch: 80, loss: 0.107, acc: 0.000, val_loss: 0.134, val_acc: 0.960\n",
      "epoch: 81, loss: 0.106, acc: 0.000, val_loss: 0.133, val_acc: 0.960\n",
      "epoch: 82, loss: 0.105, acc: 0.000, val_loss: 0.132, val_acc: 0.960\n",
      "epoch: 83, loss: 0.104, acc: 0.000, val_loss: 0.132, val_acc: 0.960\n",
      "epoch: 84, loss: 0.103, acc: 0.000, val_loss: 0.131, val_acc: 0.960\n",
      "epoch: 85, loss: 0.102, acc: 0.000, val_loss: 0.131, val_acc: 0.960\n",
      "epoch: 86, loss: 0.101, acc: 0.000, val_loss: 0.13, val_acc: 0.961\n",
      "epoch: 87, loss: 0.0996, acc: 0.000, val_loss: 0.13, val_acc: 0.961\n",
      "epoch: 88, loss: 0.0986, acc: 0.000, val_loss: 0.129, val_acc: 0.961\n",
      "epoch: 89, loss: 0.0976, acc: 0.000, val_loss: 0.129, val_acc: 0.961\n",
      "epoch: 90, loss: 0.0967, acc: 0.000, val_loss: 0.128, val_acc: 0.961\n",
      "epoch: 91, loss: 0.0958, acc: 0.000, val_loss: 0.128, val_acc: 0.961\n",
      "epoch: 92, loss: 0.0949, acc: 0.000, val_loss: 0.128, val_acc: 0.961\n",
      "epoch: 93, loss: 0.094, acc: 0.000, val_loss: 0.127, val_acc: 0.962\n",
      "epoch: 94, loss: 0.0931, acc: 0.000, val_loss: 0.127, val_acc: 0.962\n",
      "epoch: 95, loss: 0.0923, acc: 0.000, val_loss: 0.126, val_acc: 0.962\n",
      "epoch: 96, loss: 0.0914, acc: 0.000, val_loss: 0.126, val_acc: 0.962\n",
      "epoch: 97, loss: 0.0906, acc: 0.000, val_loss: 0.126, val_acc: 0.962\n",
      "epoch: 98, loss: 0.0898, acc: 0.000, val_loss: 0.125, val_acc: 0.962\n",
      "epoch: 99, loss: 0.089, acc: 0.000, val_loss: 0.125, val_acc: 0.962\n",
      "epoch: 100, loss: 0.0882, acc: 0.000, val_loss: 0.124, val_acc: 0.962\n"
     ]
    }
   ],
   "source": [
    "x_,t_=shuffle(x_train,t_train)\n",
    "\n",
    "epochs=100\n",
    "batch_size=100\n",
    "n_batches_train=x_train.shape[0]//batch_size\n",
    "n_batches_val=x_val.shape[0]//batch_size\n",
    "hist={'val_loss':[],'val_accuracy':[]}\n",
    "\n",
    "for epoch in range(epochs):\n",
    "    \n",
    "    for batch in range(n_batches_train):\n",
    "        start=batch*batch_size\n",
    "        end=start+batch_size\n",
    "        train_step(x_[start:end],t_[start:end])\n",
    "    \n",
    "    for batch in range(n_batches_val):\n",
    "        start=batch*batch_size\n",
    "        end=start+batch_size\n",
    "        val_step(x_val[start:end],t_val[start:end])\n",
    "        \n",
    "    hist['val_loss'].append(val_loss.result())\n",
    "    hist['val_accuracy'].append(val_acc.result())\n",
    "  \n",
    "    print('epoch: {}, loss: {:.3}, acc: {:.3f}, val_loss: {:.3}, val_acc: {:.3f}'.format(epoch+1,train_loss.result(),train_acc.result(),val_loss.result(),val_acc.result()))"
   ]
  },
  {
   "cell_type": "code",
   "execution_count": 30,
   "metadata": {},
   "outputs": [
    {
     "data": {
      "image/png": "[encoded data removed]",
      "text/plain": [
       "<Figure size 432x288 with 1 Axes>"
      ]
     },
     "metadata": {
      "needs_background": "light"
     },
     "output_type": "display_data"
    }
   ],
   "source": [
    "val_loss=hist['val_loss']\n",
    "\n",
    "fig=plt.figure()\n",
    "plt.rc('font',family='serif')\n",
    "plt.plot(range(len(val_loss)),val_loss,color='black',linewidth=1)\n",
    "plt.xlabel('epoch')\n",
    "plt.ylabel('loss')\n",
    "plt.show()"
   ]
  },
  {
   "cell_type": "code",
   "execution_count": 31,
   "metadata": {},
   "outputs": [
    {
     "data": {
      "text/plain": [
       "<tf.Tensor: shape=(), dtype=float32, numpy=0.08838139>"
      ]
     },
     "execution_count": 31,
     "metadata": {},
     "output_type": "execute_result"
    }
   ],
   "source": [
    "test_loss=metrics.Mean()\n",
    "test_acc=metrics.SparseCategoricalAccuracy()\n",
    "\n",
    "def test_step(x,t):\n",
    "    preds=model(x)\n",
    "    loss=compute_loss(t,preds)\n",
    "    test_loss(loss)\n",
    "    test_acc(t,preds)\n",
    "    return loss\n",
    "\n",
    "test_step(x_test,t_test)"
   ]
  },
  {
   "cell_type": "code",
   "execution_count": 33,
   "metadata": {},
   "outputs": [
    {
     "name": "stdout",
     "output_type": "stream",
     "text": [
      "test_loss: 0.0884, test_acc: 0.974\n"
     ]
    }
   ],
   "source": [
    "print('test_loss: {:.3}, test_acc: {:.3f}'.format(test_loss.result(),test_acc.result()))"
   ]
  },
  {
   "cell_type": "code",
   "execution_count": null,
   "metadata": {},
   "outputs": [],
   "source": []
  }
 ],
 "metadata": {
  "kernelspec": {
   "display_name": "Python 3",
   "language": "python",
   "name": "python3"
  },
  "language_info": {
   "codemirror_mode": {
    "name": "ipython",
    "version": 3
   },
   "file_extension": ".py",
   "mimetype": "text/x-python",
   "name": "python",
   "nbconvert_exporter": "python",
   "pygments_lexer": "ipython3",
   "version": "3.7.7"
  }
 },
 "nbformat": 4,
 "nbformat_minor": 4
}
