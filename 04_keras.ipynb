{
 "cells": [
  {
   "cell_type": "code",
   "execution_count": 11,
   "metadata": {},
   "outputs": [],
   "source": [
    "import numpy as np\n",
    "import matplotlib.pyplot as plt\n",
    "from sklearn.model_selection import train_test_split\n",
    "import tensorflow as tf\n",
    "from tensorflow.keras import datasets\n",
    "from tensorflow.keras.models import Sequential\n",
    "from tensorflow.keras.layers import Dense,Dropout\n",
    "from tensorflow.keras.callbacks import EarlyStopping"
   ]
  },
  {
   "cell_type": "code",
   "execution_count": 12,
   "metadata": {},
   "outputs": [],
   "source": [
    "mnist=datasets.mnist\n",
    "(x_train,t_train),(x_test,t_test)=mnist.load_data()\n",
    "\n",
    "x_train=(x_train.reshape(-1,784)/255).astype(np.float32)\n",
    "x_test=(x_test.reshape(-1,784)/255).astype(np.float32)\n",
    "\n",
    "x_train,x_val,t_train,t_val=train_test_split(x_train,t_train,test_size=0.2)"
   ]
  },
  {
   "cell_type": "code",
   "execution_count": 13,
   "metadata": {},
   "outputs": [],
   "source": [
    "model=Sequential()\n",
    "model.add(Dense(200,activation='relu'))\n",
    "model.add(Dropout(0.5))\n",
    "model.add(Dense(200,activation='relu'))\n",
    "model.add(Dropout(0.5))\n",
    "model.add(Dense(200,activation='relu'))\n",
    "model.add(Dropout(0.5))\n",
    "model.add(Dense(10,activation='softmax'))"
   ]
  },
  {
   "cell_type": "code",
   "execution_count": 14,
   "metadata": {},
   "outputs": [
    {
     "name": "stdout",
     "output_type": "stream",
     "text": [
      "Train on 48000 samples, validate on 12000 samples\n",
      "Epoch 1/1000\n",
      "48000/48000 - 1s - loss: 2.1623 - accuracy: 0.2142 - val_loss: 1.6765 - val_accuracy: 0.6729\n",
      "Epoch 2/1000\n",
      "48000/48000 - 0s - loss: 1.5762 - accuracy: 0.4712 - val_loss: 0.8818 - val_accuracy: 0.7868\n",
      "Epoch 3/1000\n",
      "48000/48000 - 0s - loss: 1.1234 - accuracy: 0.6236 - val_loss: 0.5999 - val_accuracy: 0.8477\n",
      "Epoch 4/1000\n",
      "48000/48000 - 0s - loss: 0.9049 - accuracy: 0.7031 - val_loss: 0.4762 - val_accuracy: 0.8728\n",
      "Epoch 5/1000\n",
      "48000/48000 - 0s - loss: 0.7768 - accuracy: 0.7529 - val_loss: 0.4167 - val_accuracy: 0.8855\n",
      "Epoch 6/1000\n",
      "48000/48000 - 0s - loss: 0.6838 - accuracy: 0.7867 - val_loss: 0.3699 - val_accuracy: 0.8963\n",
      "Epoch 7/1000\n",
      "48000/48000 - 0s - loss: 0.6236 - accuracy: 0.8093 - val_loss: 0.3414 - val_accuracy: 0.9037\n",
      "Epoch 8/1000\n",
      "48000/48000 - 0s - loss: 0.5792 - accuracy: 0.8261 - val_loss: 0.3237 - val_accuracy: 0.9078\n",
      "Epoch 9/1000\n",
      "48000/48000 - 0s - loss: 0.5457 - accuracy: 0.8378 - val_loss: 0.3014 - val_accuracy: 0.9110\n",
      "Epoch 10/1000\n",
      "48000/48000 - 1s - loss: 0.5137 - accuracy: 0.8468 - val_loss: 0.2881 - val_accuracy: 0.9150\n",
      "Epoch 11/1000\n",
      "48000/48000 - 0s - loss: 0.4882 - accuracy: 0.8572 - val_loss: 0.2767 - val_accuracy: 0.9184\n",
      "Epoch 12/1000\n",
      "48000/48000 - 0s - loss: 0.4690 - accuracy: 0.8648 - val_loss: 0.2651 - val_accuracy: 0.9230\n",
      "Epoch 13/1000\n",
      "48000/48000 - 0s - loss: 0.4536 - accuracy: 0.8686 - val_loss: 0.2546 - val_accuracy: 0.9246\n",
      "Epoch 14/1000\n",
      "48000/48000 - 1s - loss: 0.4264 - accuracy: 0.8760 - val_loss: 0.2445 - val_accuracy: 0.9275\n",
      "Epoch 15/1000\n",
      "48000/48000 - 0s - loss: 0.4165 - accuracy: 0.8781 - val_loss: 0.2361 - val_accuracy: 0.9301\n",
      "Epoch 16/1000\n",
      "48000/48000 - 0s - loss: 0.4046 - accuracy: 0.8825 - val_loss: 0.2306 - val_accuracy: 0.9330\n",
      "Epoch 17/1000\n",
      "48000/48000 - 0s - loss: 0.3904 - accuracy: 0.8897 - val_loss: 0.2243 - val_accuracy: 0.9353\n",
      "Epoch 18/1000\n",
      "48000/48000 - 0s - loss: 0.3812 - accuracy: 0.8926 - val_loss: 0.2179 - val_accuracy: 0.9367\n",
      "Epoch 19/1000\n",
      "48000/48000 - 0s - loss: 0.3687 - accuracy: 0.8941 - val_loss: 0.2144 - val_accuracy: 0.9380\n",
      "Epoch 20/1000\n",
      "48000/48000 - 0s - loss: 0.3558 - accuracy: 0.8980 - val_loss: 0.2072 - val_accuracy: 0.9402\n",
      "Epoch 21/1000\n",
      "48000/48000 - 0s - loss: 0.3524 - accuracy: 0.8990 - val_loss: 0.2027 - val_accuracy: 0.9402\n",
      "Epoch 22/1000\n",
      "48000/48000 - 0s - loss: 0.3383 - accuracy: 0.9032 - val_loss: 0.1974 - val_accuracy: 0.9415\n",
      "Epoch 23/1000\n",
      "48000/48000 - 0s - loss: 0.3315 - accuracy: 0.9049 - val_loss: 0.1917 - val_accuracy: 0.9444\n",
      "Epoch 24/1000\n",
      "48000/48000 - 0s - loss: 0.3250 - accuracy: 0.9072 - val_loss: 0.1892 - val_accuracy: 0.9447\n",
      "Epoch 25/1000\n",
      "48000/48000 - 0s - loss: 0.3210 - accuracy: 0.9086 - val_loss: 0.1858 - val_accuracy: 0.9459\n",
      "Epoch 26/1000\n",
      "48000/48000 - 0s - loss: 0.3078 - accuracy: 0.9136 - val_loss: 0.1821 - val_accuracy: 0.9467\n",
      "Epoch 27/1000\n",
      "48000/48000 - 0s - loss: 0.3062 - accuracy: 0.9133 - val_loss: 0.1774 - val_accuracy: 0.9482\n",
      "Epoch 28/1000\n",
      "48000/48000 - 0s - loss: 0.2985 - accuracy: 0.9154 - val_loss: 0.1748 - val_accuracy: 0.9494\n",
      "Epoch 29/1000\n",
      "48000/48000 - 0s - loss: 0.2954 - accuracy: 0.9161 - val_loss: 0.1717 - val_accuracy: 0.9505\n",
      "Epoch 30/1000\n",
      "48000/48000 - 0s - loss: 0.2901 - accuracy: 0.9186 - val_loss: 0.1691 - val_accuracy: 0.9509\n",
      "Epoch 31/1000\n",
      "48000/48000 - 0s - loss: 0.2852 - accuracy: 0.9185 - val_loss: 0.1665 - val_accuracy: 0.9514\n",
      "Epoch 32/1000\n",
      "48000/48000 - 0s - loss: 0.2815 - accuracy: 0.9196 - val_loss: 0.1651 - val_accuracy: 0.9522\n",
      "Epoch 33/1000\n",
      "48000/48000 - 0s - loss: 0.2752 - accuracy: 0.9228 - val_loss: 0.1620 - val_accuracy: 0.9528\n",
      "Epoch 34/1000\n",
      "48000/48000 - 0s - loss: 0.2709 - accuracy: 0.9243 - val_loss: 0.1590 - val_accuracy: 0.9541\n",
      "Epoch 35/1000\n",
      "48000/48000 - 0s - loss: 0.2656 - accuracy: 0.9241 - val_loss: 0.1572 - val_accuracy: 0.9551\n",
      "Epoch 36/1000\n",
      "48000/48000 - 0s - loss: 0.2594 - accuracy: 0.9261 - val_loss: 0.1534 - val_accuracy: 0.9556\n",
      "Epoch 37/1000\n",
      "48000/48000 - 0s - loss: 0.2590 - accuracy: 0.9262 - val_loss: 0.1510 - val_accuracy: 0.9569\n",
      "Epoch 38/1000\n",
      "48000/48000 - 0s - loss: 0.2531 - accuracy: 0.9280 - val_loss: 0.1507 - val_accuracy: 0.9572\n",
      "Epoch 39/1000\n",
      "48000/48000 - 0s - loss: 0.2483 - accuracy: 0.9301 - val_loss: 0.1469 - val_accuracy: 0.9579\n",
      "Epoch 40/1000\n",
      "48000/48000 - 0s - loss: 0.2466 - accuracy: 0.9304 - val_loss: 0.1458 - val_accuracy: 0.9582\n",
      "Epoch 41/1000\n",
      "48000/48000 - 0s - loss: 0.2442 - accuracy: 0.9293 - val_loss: 0.1441 - val_accuracy: 0.9586\n",
      "Epoch 42/1000\n",
      "48000/48000 - 0s - loss: 0.2397 - accuracy: 0.9322 - val_loss: 0.1432 - val_accuracy: 0.9592\n",
      "Epoch 43/1000\n",
      "48000/48000 - 0s - loss: 0.2385 - accuracy: 0.9317 - val_loss: 0.1418 - val_accuracy: 0.9597\n",
      "Epoch 44/1000\n",
      "48000/48000 - 0s - loss: 0.2349 - accuracy: 0.9334 - val_loss: 0.1413 - val_accuracy: 0.9597\n",
      "Epoch 45/1000\n",
      "48000/48000 - 0s - loss: 0.2305 - accuracy: 0.9348 - val_loss: 0.1388 - val_accuracy: 0.9609\n",
      "Epoch 46/1000\n",
      "48000/48000 - 0s - loss: 0.2272 - accuracy: 0.9351 - val_loss: 0.1375 - val_accuracy: 0.9607\n",
      "Epoch 47/1000\n",
      "48000/48000 - 0s - loss: 0.2265 - accuracy: 0.9372 - val_loss: 0.1354 - val_accuracy: 0.9613\n",
      "Epoch 48/1000\n",
      "48000/48000 - 0s - loss: 0.2217 - accuracy: 0.9370 - val_loss: 0.1350 - val_accuracy: 0.9616\n",
      "Epoch 49/1000\n",
      "48000/48000 - 0s - loss: 0.2194 - accuracy: 0.9384 - val_loss: 0.1336 - val_accuracy: 0.9616\n",
      "Epoch 50/1000\n",
      "48000/48000 - 0s - loss: 0.2138 - accuracy: 0.9386 - val_loss: 0.1341 - val_accuracy: 0.9618\n",
      "Epoch 51/1000\n",
      "48000/48000 - 0s - loss: 0.2173 - accuracy: 0.9369 - val_loss: 0.1308 - val_accuracy: 0.9628\n",
      "Epoch 52/1000\n",
      "48000/48000 - 0s - loss: 0.2122 - accuracy: 0.9407 - val_loss: 0.1304 - val_accuracy: 0.9629\n",
      "Epoch 53/1000\n",
      "48000/48000 - 0s - loss: 0.2067 - accuracy: 0.9415 - val_loss: 0.1289 - val_accuracy: 0.9636\n",
      "Epoch 54/1000\n",
      "48000/48000 - 0s - loss: 0.2048 - accuracy: 0.9423 - val_loss: 0.1293 - val_accuracy: 0.9638\n",
      "Epoch 55/1000\n",
      "48000/48000 - 0s - loss: 0.2008 - accuracy: 0.9423 - val_loss: 0.1278 - val_accuracy: 0.9634\n",
      "Epoch 56/1000\n",
      "48000/48000 - 0s - loss: 0.2036 - accuracy: 0.9423 - val_loss: 0.1274 - val_accuracy: 0.9643\n",
      "Epoch 57/1000\n",
      "48000/48000 - 0s - loss: 0.2019 - accuracy: 0.9413 - val_loss: 0.1263 - val_accuracy: 0.9641\n",
      "Epoch 58/1000\n",
      "48000/48000 - 0s - loss: 0.1980 - accuracy: 0.9436 - val_loss: 0.1252 - val_accuracy: 0.9645\n",
      "Epoch 59/1000\n",
      "48000/48000 - 0s - loss: 0.1963 - accuracy: 0.9439 - val_loss: 0.1239 - val_accuracy: 0.9651\n",
      "Epoch 60/1000\n",
      "48000/48000 - 0s - loss: 0.1937 - accuracy: 0.9449 - val_loss: 0.1232 - val_accuracy: 0.9654\n",
      "Epoch 61/1000\n",
      "48000/48000 - 0s - loss: 0.1958 - accuracy: 0.9440 - val_loss: 0.1233 - val_accuracy: 0.9653\n",
      "Epoch 62/1000\n",
      "48000/48000 - 0s - loss: 0.1885 - accuracy: 0.9468 - val_loss: 0.1222 - val_accuracy: 0.9658\n",
      "Epoch 63/1000\n",
      "48000/48000 - 0s - loss: 0.1899 - accuracy: 0.9465 - val_loss: 0.1195 - val_accuracy: 0.9657\n",
      "Epoch 64/1000\n",
      "48000/48000 - 0s - loss: 0.1884 - accuracy: 0.9456 - val_loss: 0.1204 - val_accuracy: 0.9663\n",
      "Epoch 65/1000\n",
      "48000/48000 - 0s - loss: 0.1856 - accuracy: 0.9474 - val_loss: 0.1209 - val_accuracy: 0.9661\n",
      "Epoch 66/1000\n",
      "48000/48000 - 0s - loss: 0.1818 - accuracy: 0.9477 - val_loss: 0.1208 - val_accuracy: 0.9659\n",
      "Epoch 67/1000\n",
      "48000/48000 - 0s - loss: 0.1806 - accuracy: 0.9486 - val_loss: 0.1187 - val_accuracy: 0.9661\n",
      "Epoch 68/1000\n",
      "48000/48000 - 0s - loss: 0.1808 - accuracy: 0.9486 - val_loss: 0.1171 - val_accuracy: 0.9666\n",
      "Epoch 69/1000\n",
      "48000/48000 - 0s - loss: 0.1800 - accuracy: 0.9491 - val_loss: 0.1175 - val_accuracy: 0.9674\n",
      "Epoch 70/1000\n",
      "48000/48000 - 0s - loss: 0.1776 - accuracy: 0.9495 - val_loss: 0.1163 - val_accuracy: 0.9676\n",
      "Epoch 71/1000\n",
      "48000/48000 - 0s - loss: 0.1813 - accuracy: 0.9482 - val_loss: 0.1162 - val_accuracy: 0.9675\n",
      "Epoch 72/1000\n",
      "48000/48000 - 0s - loss: 0.1746 - accuracy: 0.9503 - val_loss: 0.1157 - val_accuracy: 0.9677\n",
      "Epoch 73/1000\n",
      "48000/48000 - 0s - loss: 0.1747 - accuracy: 0.9510 - val_loss: 0.1154 - val_accuracy: 0.9681\n",
      "Epoch 74/1000\n",
      "48000/48000 - 0s - loss: 0.1728 - accuracy: 0.9504 - val_loss: 0.1134 - val_accuracy: 0.9685\n",
      "Epoch 75/1000\n",
      "48000/48000 - 0s - loss: 0.1658 - accuracy: 0.9521 - val_loss: 0.1133 - val_accuracy: 0.9681\n",
      "Epoch 76/1000\n",
      "48000/48000 - 0s - loss: 0.1673 - accuracy: 0.9535 - val_loss: 0.1141 - val_accuracy: 0.9678\n",
      "Epoch 77/1000\n",
      "48000/48000 - 0s - loss: 0.1611 - accuracy: 0.9542 - val_loss: 0.1150 - val_accuracy: 0.9673\n"
     ]
    },
    {
     "name": "stdout",
     "output_type": "stream",
     "text": [
      "Epoch 78/1000\n",
      "48000/48000 - 0s - loss: 0.1649 - accuracy: 0.9533 - val_loss: 0.1140 - val_accuracy: 0.9682\n",
      "Epoch 79/1000\n",
      "48000/48000 - 0s - loss: 0.1632 - accuracy: 0.9532 - val_loss: 0.1108 - val_accuracy: 0.9689\n",
      "Epoch 80/1000\n",
      "48000/48000 - 0s - loss: 0.1636 - accuracy: 0.9525 - val_loss: 0.1111 - val_accuracy: 0.9688\n",
      "Epoch 81/1000\n",
      "48000/48000 - 0s - loss: 0.1592 - accuracy: 0.9536 - val_loss: 0.1108 - val_accuracy: 0.9695\n",
      "Epoch 82/1000\n",
      "48000/48000 - 0s - loss: 0.1625 - accuracy: 0.9529 - val_loss: 0.1115 - val_accuracy: 0.9691\n",
      "Epoch 83/1000\n",
      "48000/48000 - 0s - loss: 0.1585 - accuracy: 0.9545 - val_loss: 0.1104 - val_accuracy: 0.9697\n",
      "Epoch 84/1000\n",
      "48000/48000 - 0s - loss: 0.1607 - accuracy: 0.9545 - val_loss: 0.1094 - val_accuracy: 0.9700\n",
      "Epoch 85/1000\n",
      "48000/48000 - 0s - loss: 0.1590 - accuracy: 0.9543 - val_loss: 0.1086 - val_accuracy: 0.9703\n",
      "Epoch 86/1000\n",
      "48000/48000 - 0s - loss: 0.1582 - accuracy: 0.9547 - val_loss: 0.1077 - val_accuracy: 0.9707\n",
      "Epoch 87/1000\n",
      "48000/48000 - 0s - loss: 0.1589 - accuracy: 0.9541 - val_loss: 0.1092 - val_accuracy: 0.9702\n",
      "Epoch 88/1000\n",
      "48000/48000 - 0s - loss: 0.1560 - accuracy: 0.9553 - val_loss: 0.1076 - val_accuracy: 0.9707\n",
      "Epoch 89/1000\n",
      "48000/48000 - 0s - loss: 0.1499 - accuracy: 0.9569 - val_loss: 0.1069 - val_accuracy: 0.9699\n",
      "Epoch 90/1000\n",
      "48000/48000 - 0s - loss: 0.1527 - accuracy: 0.9552 - val_loss: 0.1079 - val_accuracy: 0.9699\n",
      "Epoch 91/1000\n",
      "48000/48000 - 0s - loss: 0.1480 - accuracy: 0.9569 - val_loss: 0.1072 - val_accuracy: 0.9709\n",
      "Epoch 92/1000\n",
      "48000/48000 - 0s - loss: 0.1499 - accuracy: 0.9565 - val_loss: 0.1064 - val_accuracy: 0.9703\n",
      "Epoch 93/1000\n",
      "48000/48000 - 0s - loss: 0.1500 - accuracy: 0.9567 - val_loss: 0.1070 - val_accuracy: 0.9711\n",
      "Epoch 94/1000\n",
      "48000/48000 - 0s - loss: 0.1459 - accuracy: 0.9574 - val_loss: 0.1075 - val_accuracy: 0.9702\n",
      "Epoch 95/1000\n",
      "48000/48000 - 0s - loss: 0.1425 - accuracy: 0.9589 - val_loss: 0.1068 - val_accuracy: 0.9705\n",
      "Epoch 96/1000\n",
      "48000/48000 - 0s - loss: 0.1489 - accuracy: 0.9567 - val_loss: 0.1075 - val_accuracy: 0.9708\n",
      "Epoch 97/1000\n",
      "48000/48000 - 0s - loss: 0.1472 - accuracy: 0.9584 - val_loss: 0.1068 - val_accuracy: 0.9711\n",
      "Epoch 00097: early stopping\n"
     ]
    }
   ],
   "source": [
    "model.compile(optimizer='sgd',loss='sparse_categorical_crossentropy',metrics=['accuracy'])\n",
    "es=EarlyStopping(monitor='val_loss',patience=5,verbose=1)\n",
    "hist=model.fit(x_train,t_train,epochs=1000,batch_size=128,verbose=2,validation_data=(x_val,t_val),callbacks=[es])"
   ]
  },
  {
   "cell_type": "code",
   "execution_count": 15,
   "metadata": {},
   "outputs": [
    {
     "data": {
      "image/png": "[encoded data removed]",
      "text/plain": [
       "<Figure size 432x288 with 1 Axes>"
      ]
     },
     "metadata": {
      "needs_background": "light"
     },
     "output_type": "display_data"
    },
    {
     "data": {
      "text/plain": [
       "[<matplotlib.lines.Line2D at 0x149997509150>]"
      ]
     },
     "execution_count": 15,
     "metadata": {},
     "output_type": "execute_result"
    },
    {
     "data": {
      "image/png": "[encoded data removed]",
      "text/plain": [
       "<Figure size 432x288 with 1 Axes>"
      ]
     },
     "metadata": {
      "needs_background": "light"
     },
     "output_type": "display_data"
    }
   ],
   "source": [
    "val_loss=hist.history['val_loss']\n",
    "val_acc=hist.history['val_accuracy']\n",
    "plt.figure()\n",
    "plt.rc('font',family='serif')\n",
    "plt.plot(range(len(val_loss)),val_loss,color='black',linewidth=1)\n",
    "\n",
    "plt.xlabel('epoch')\n",
    "plt.ylabel('loss')\n",
    "# plt.savefig('output.jpg')\n",
    "plt.show()\n",
    "plt.ylabel('accuracy')\n",
    "plt.plot(range(len(val_acc)),val_acc,color='red',linewidth=1)"
   ]
  },
  {
   "cell_type": "code",
   "execution_count": 16,
   "metadata": {},
   "outputs": [
    {
     "data": {
      "text/plain": [
       "<Figure size 432x288 with 0 Axes>"
      ]
     },
     "metadata": {},
     "output_type": "display_data"
    },
    {
     "data": {
      "image/png": "[encoded data removed]",
      "text/plain": [
       "<Figure size 432x288 with 2 Axes>"
      ]
     },
     "metadata": {
      "needs_background": "light"
     },
     "output_type": "display_data"
    }
   ],
   "source": [
    "val_loss=hist.history['val_loss']\n",
    "val_acc=hist.history['val_accuracy']\n",
    "\n",
    "fig=plt.figure()\n",
    "fig, ax1 = plt.subplots()\n",
    "ax2 = ax1.twinx() # 二つ目の軸を定義\n",
    "\n",
    "ax1.set_ylabel('loss') # ラベルを設定\n",
    "ax2.set_ylabel('accuracy') \n",
    "#ax2.set_ylim(0,1)\n",
    "\n",
    "plt.rc('font',family='serif')\n",
    "ax1.plot(range(len(val_loss)),val_loss,color='black',linewidth=1)\n",
    "ax2.plot(range(len(val_acc)),val_acc,color='red',linewidth=1)\n",
    "plt.xlabel('epoch')\n",
    "# plt.savefig('output.jpg')\n",
    "plt.show()"
   ]
  },
  {
   "cell_type": "code",
   "execution_count": 17,
   "metadata": {},
   "outputs": [
    {
     "name": "stdout",
     "output_type": "stream",
     "text": [
      "test_loss: 0.100, test_acc: 0.971\n"
     ]
    }
   ],
   "source": [
    "loss,acc=model.evaluate(x_test,t_test,verbose=0)\n",
    "print('test_loss: {:.3f}, test_acc: {:.3f}'.format(loss,acc))"
   ]
  },
  {
   "cell_type": "code",
   "execution_count": null,
   "metadata": {},
   "outputs": [],
   "source": []
  }
 ],
 "metadata": {
  "kernelspec": {
   "display_name": "Python 3",
   "language": "python",
   "name": "python3"
  },
  "language_info": {
   "codemirror_mode": {
    "name": "ipython",
    "version": 3
   },
   "file_extension": ".py",
   "mimetype": "text/x-python",
   "name": "python",
   "nbconvert_exporter": "python",
   "pygments_lexer": "ipython3",
   "version": "3.7.7"
  }
 },
 "nbformat": 4,
 "nbformat_minor": 4
}
