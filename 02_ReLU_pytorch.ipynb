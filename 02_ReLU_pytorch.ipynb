{
 "cells": [
  {
   "cell_type": "code",
   "execution_count": 1,
   "metadata": {},
   "outputs": [],
   "source": [
    "import os\n",
    "import numpy as np\n",
    "from sklearn.metrics import accuracy_score\n",
    "import torch\n",
    "import torch.nn as nn\n",
    "import torch.optim as optimizers\n",
    "from torch.utils.data import DataLoader\n",
    "from torchvision import datasets\n",
    "import torchvision.transforms as transforms"
   ]
  },
  {
   "cell_type": "code",
   "execution_count": 2,
   "metadata": {},
   "outputs": [],
   "source": [
    "class DNN(nn.Module):\n",
    "    def __init__(self,input_dim,hidden_dim,output_dim):\n",
    "        super().__init__()\n",
    "        self.l1=nn.Linear(input_dim,hidden_dim)\n",
    "        self.a1=nn.ReLU()\n",
    "        self.l2=nn.Linear(hidden_dim,hidden_dim)\n",
    "        self.a2=nn.ReLU()\n",
    "        self.l3=nn.Linear(hidden_dim,hidden_dim)\n",
    "        self.a3=nn.ReLU()\n",
    "        self.l4=nn.Linear(hidden_dim,output_dim)\n",
    "        \n",
    "        self.layers=[self.l1,self.a1,self.l2,self.a2,self.l3,self.a3,self.l4]\n",
    "    \n",
    "    def forward(self,x):\n",
    "        for layer in self.layers:\n",
    "            x=layer(x)\n",
    "        return x        "
   ]
  },
  {
   "cell_type": "code",
   "execution_count": 3,
   "metadata": {},
   "outputs": [],
   "source": [
    "root=os.path.join('~','.torch','mnist')\n",
    "transform=transforms.Compose([transforms.ToTensor(),lambda x: x.view(-1)])\n",
    "\n",
    "mnist_train=datasets.MNIST(root=root,download=True,train=True,transform=transform)\n",
    "mnist_test=datasets.MNIST(root=root,download=True,train=False,transform=transform)\n",
    "\n",
    "train_dataloader=DataLoader(mnist_train,batch_size=100,shuffle=True)\n",
    "test_dataloader=DataLoader(mnist_test,batch_size=100,shuffle=False)"
   ]
  },
  {
   "cell_type": "code",
   "execution_count": 6,
   "metadata": {},
   "outputs": [],
   "source": [
    "device = torch.device(\"cuda:0\" if torch.cuda.is_available() else \"cpu\")\n",
    "model=DNN(784,200,10).to(device)"
   ]
  },
  {
   "cell_type": "code",
   "execution_count": 7,
   "metadata": {},
   "outputs": [
    {
     "name": "stdout",
     "output_type": "stream",
     "text": [
      "epoch: 1, loss: 2.275, acc: 0.287\n",
      "epoch: 2, loss: 1.788, acc: 0.542\n",
      "epoch: 3, loss: 0.732, acc: 0.793\n",
      "epoch: 4, loss: 0.483, acc: 0.861\n",
      "epoch: 5, loss: 0.405, acc: 0.883\n",
      "epoch: 6, loss: 0.362, acc: 0.895\n",
      "epoch: 7, loss: 0.332, acc: 0.904\n",
      "epoch: 8, loss: 0.309, acc: 0.911\n",
      "epoch: 9, loss: 0.289, acc: 0.916\n",
      "epoch: 10, loss: 0.271, acc: 0.922\n",
      "epoch: 11, loss: 0.255, acc: 0.927\n",
      "epoch: 12, loss: 0.239, acc: 0.931\n",
      "epoch: 13, loss: 0.226, acc: 0.935\n",
      "epoch: 14, loss: 0.212, acc: 0.939\n",
      "epoch: 15, loss: 0.201, acc: 0.943\n",
      "epoch: 16, loss: 0.191, acc: 0.946\n",
      "epoch: 17, loss: 0.181, acc: 0.949\n",
      "epoch: 18, loss: 0.171, acc: 0.951\n",
      "epoch: 19, loss: 0.163, acc: 0.954\n",
      "epoch: 20, loss: 0.156, acc: 0.955\n",
      "epoch: 21, loss: 0.149, acc: 0.958\n",
      "epoch: 22, loss: 0.142, acc: 0.959\n",
      "epoch: 23, loss: 0.136, acc: 0.961\n",
      "epoch: 24, loss: 0.131, acc: 0.963\n",
      "epoch: 25, loss: 0.126, acc: 0.965\n",
      "epoch: 26, loss: 0.120, acc: 0.966\n",
      "epoch: 27, loss: 0.116, acc: 0.967\n",
      "epoch: 28, loss: 0.112, acc: 0.968\n",
      "epoch: 29, loss: 0.107, acc: 0.969\n",
      "epoch: 30, loss: 0.103, acc: 0.971\n"
     ]
    }
   ],
   "source": [
    "criterion=nn.CrossEntropyLoss()\n",
    "optimizer=optimizers.SGD(model.parameters(),lr=0.01)\n",
    "\n",
    "def compute_loss(t,y):\n",
    "    return criterion(y,t)\n",
    "\n",
    "def train_step(x,t):\n",
    "    model.train()\n",
    "    preds=model(x)\n",
    "    loss=compute_loss(t,preds)\n",
    "    optimizer.zero_grad()\n",
    "    loss.backward()\n",
    "    optimizer.step()\n",
    "    return loss,preds\n",
    "\n",
    "epochs=30\n",
    "for epoch in range(epochs):\n",
    "    train_loss=0.\n",
    "    train_acc=0.\n",
    "    for (x,t) in train_dataloader:\n",
    "        x,t=x.to(device),t.to(device)\n",
    "        loss,preds=train_step(x,t)\n",
    "        train_loss+=loss.item()\n",
    "        train_acc+=accuracy_score(t.tolist(),preds.argmax(dim=-1).tolist())\n",
    "    train_loss/=len(train_dataloader)\n",
    "    train_acc/=len(train_dataloader)\n",
    "        \n",
    "    print('epoch: {}, loss: {:.3f}, acc: {:.3f}'.format(epoch+1,train_loss,train_acc))"
   ]
  },
  {
   "cell_type": "code",
   "execution_count": 8,
   "metadata": {},
   "outputs": [
    {
     "name": "stdout",
     "output_type": "stream",
     "text": [
      "test_loss: 0.117, test_acc: 0.964\n"
     ]
    }
   ],
   "source": [
    "def test_step(x,t):\n",
    "    model.eval()\n",
    "    preds=model(x)\n",
    "    loss=criterion(preds,t)\n",
    "    return loss,preds\n",
    "\n",
    "test_loss=0.\n",
    "test_acc=0.\n",
    "\n",
    "for (x,t) in test_dataloader:\n",
    "    x,t=x.to(device),t.to(device)\n",
    "    loss,preds=test_step(x,t)\n",
    "    test_loss+=loss.item()\n",
    "    test_acc+=accuracy_score(t.tolist(),preds.argmax(dim=-1).tolist())\n",
    "test_loss/=len(test_dataloader)\n",
    "test_acc/=len(test_dataloader)\n",
    "print('test_loss: {:.3f}, test_acc: {:.3f}'.format(test_loss,test_acc))"
   ]
  },
  {
   "cell_type": "code",
   "execution_count": null,
   "metadata": {},
   "outputs": [],
   "source": []
  }
 ],
 "metadata": {
  "kernelspec": {
   "display_name": "Python 3",
   "language": "python",
   "name": "python3"
  },
  "language_info": {
   "codemirror_mode": {
    "name": "ipython",
    "version": 3
   },
   "file_extension": ".py",
   "mimetype": "text/x-python",
   "name": "python",
   "nbconvert_exporter": "python",
   "pygments_lexer": "ipython3",
   "version": "3.7.7"
  }
 },
 "nbformat": 4,
 "nbformat_minor": 4
}
