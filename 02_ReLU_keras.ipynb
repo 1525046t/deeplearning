{
 "cells": [
  {
   "cell_type": "code",
   "execution_count": 1,
   "metadata": {},
   "outputs": [
    {
     "name": "stdout",
     "output_type": "stream",
     "text": [
      "[7 2 1 ... 4 5 6]\n"
     ]
    }
   ],
   "source": [
    "from tensorflow.keras import datasets\n",
    "\n",
    "mnist=datasets.mnist\n",
    "(x_train,t_train),(x_test,t_test)=mnist.load_data()\n",
    "print(t_test)"
   ]
  },
  {
   "cell_type": "code",
   "execution_count": 2,
   "metadata": {},
   "outputs": [],
   "source": [
    "import numpy as np\n",
    "\n",
    "x_train=(x_train.reshape(-1,784)/255).astype(np.float32)\n",
    "x_test=(x_test.reshape(-1,784)/255).astype(np.float32)\n",
    "t_train=np.eye(10)[t_train].astype(np.float32)\n",
    "t_test=np.eye(10)[t_test].astype(np.float32)"
   ]
  },
  {
   "cell_type": "code",
   "execution_count": 3,
   "metadata": {},
   "outputs": [
    {
     "name": "stdout",
     "output_type": "stream",
     "text": [
      "Train on 60000 samples\n",
      "Epoch 1/30\n",
      "60000/60000 - 1s - loss: 1.1459 - accuracy: 0.7045\n",
      "Epoch 2/30\n",
      "60000/60000 - 1s - loss: 0.3988 - accuracy: 0.8876\n",
      "Epoch 3/30\n",
      "60000/60000 - 1s - loss: 0.3209 - accuracy: 0.9083\n",
      "Epoch 4/30\n",
      "60000/60000 - 1s - loss: 0.2833 - accuracy: 0.9178\n",
      "Epoch 5/30\n",
      "60000/60000 - 1s - loss: 0.2561 - accuracy: 0.9262\n",
      "Epoch 6/30\n",
      "60000/60000 - 1s - loss: 0.2342 - accuracy: 0.9326\n",
      "Epoch 7/30\n",
      "60000/60000 - 1s - loss: 0.2156 - accuracy: 0.9377\n",
      "Epoch 8/30\n",
      "60000/60000 - 1s - loss: 0.2000 - accuracy: 0.9425\n",
      "Epoch 9/30\n",
      "60000/60000 - 1s - loss: 0.1856 - accuracy: 0.9469\n",
      "Epoch 10/30\n",
      "60000/60000 - 1s - loss: 0.1739 - accuracy: 0.9498\n",
      "Epoch 11/30\n",
      "60000/60000 - 1s - loss: 0.1630 - accuracy: 0.9529\n",
      "Epoch 12/30\n",
      "60000/60000 - 1s - loss: 0.1533 - accuracy: 0.9556\n",
      "Epoch 13/30\n",
      "60000/60000 - 1s - loss: 0.1447 - accuracy: 0.9587\n",
      "Epoch 14/30\n",
      "60000/60000 - 1s - loss: 0.1365 - accuracy: 0.9605\n",
      "Epoch 15/30\n",
      "60000/60000 - 1s - loss: 0.1296 - accuracy: 0.9623\n",
      "Epoch 16/30\n",
      "60000/60000 - 1s - loss: 0.1230 - accuracy: 0.9643\n",
      "Epoch 17/30\n",
      "60000/60000 - 1s - loss: 0.1172 - accuracy: 0.9658\n",
      "Epoch 18/30\n",
      "60000/60000 - 1s - loss: 0.1116 - accuracy: 0.9685\n",
      "Epoch 19/30\n",
      "60000/60000 - 1s - loss: 0.1067 - accuracy: 0.9696\n",
      "Epoch 20/30\n",
      "60000/60000 - 1s - loss: 0.1020 - accuracy: 0.9701\n",
      "Epoch 21/30\n",
      "60000/60000 - 1s - loss: 0.0975 - accuracy: 0.9720\n",
      "Epoch 22/30\n",
      "60000/60000 - 1s - loss: 0.0935 - accuracy: 0.9729\n",
      "Epoch 23/30\n",
      "60000/60000 - 1s - loss: 0.0896 - accuracy: 0.9740\n",
      "Epoch 24/30\n",
      "60000/60000 - 1s - loss: 0.0858 - accuracy: 0.9752\n",
      "Epoch 25/30\n",
      "60000/60000 - 1s - loss: 0.0825 - accuracy: 0.9761\n",
      "Epoch 26/30\n",
      "60000/60000 - 1s - loss: 0.0791 - accuracy: 0.9774\n",
      "Epoch 27/30\n",
      "60000/60000 - 1s - loss: 0.0762 - accuracy: 0.9780\n",
      "Epoch 28/30\n",
      "60000/60000 - 1s - loss: 0.0733 - accuracy: 0.9789\n",
      "Epoch 29/30\n",
      "60000/60000 - 1s - loss: 0.0705 - accuracy: 0.9798\n",
      "Epoch 30/30\n",
      "60000/60000 - 1s - loss: 0.0681 - accuracy: 0.9807\n",
      "test_loss: 0.088, test_acc: 0.975\n"
     ]
    }
   ],
   "source": [
    "from tensorflow.keras.models import Sequential\n",
    "from tensorflow.keras.layers import Dense\n",
    "#from tensorflow.keras import optimizers\n",
    "model=Sequential()\n",
    "model.add(Dense(200,activation='relu'))\n",
    "model.add(Dense(200,activation='relu'))\n",
    "model.add(Dense(200,activation='relu'))\n",
    "model.add(Dense(10,activation='softmax'))\n",
    "\n",
    "model.compile(optimizer='sgd',loss='categorical_crossentropy',metrics=['accuracy'])\n",
    "model.fit(x_train,t_train,epochs=30,batch_size=100,verbose=2)\n",
    "loss,acc=model.evaluate(x_test,t_test,verbose=0)\n",
    "print('test_loss: {:.3f}, test_acc: {:.3f}'.format(loss,acc))"
   ]
  },
  {
   "cell_type": "code",
   "execution_count": 4,
   "metadata": {},
   "outputs": [
    {
     "name": "stdout",
     "output_type": "stream",
     "text": [
      "test_loss: 0.088, test_acc: 0.975\n"
     ]
    }
   ],
   "source": [
    "loss,acc=model.evaluate(x_test,t_test,verbose=0)\n",
    "print('test_loss: {:.3f}, test_acc: {:.3f}'.format(loss,acc))"
   ]
  },
  {
   "cell_type": "code",
   "execution_count": null,
   "metadata": {},
   "outputs": [],
   "source": []
  }
 ],
 "metadata": {
  "kernelspec": {
   "display_name": "Python 3",
   "language": "python",
   "name": "python3"
  },
  "language_info": {
   "codemirror_mode": {
    "name": "ipython",
    "version": 3
   },
   "file_extension": ".py",
   "mimetype": "text/x-python",
   "name": "python",
   "nbconvert_exporter": "python",
   "pygments_lexer": "ipython3",
   "version": "3.7.7"
  }
 },
 "nbformat": 4,
 "nbformat_minor": 4
}
