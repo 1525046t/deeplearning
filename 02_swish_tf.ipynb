{
 "cells": [
  {
   "cell_type": "code",
   "execution_count": 3,
   "metadata": {},
   "outputs": [],
   "source": [
    "import numpy as np\n",
    "from sklearn.utils import shuffle\n",
    "import tensorflow as tf\n",
    "from tensorflow.keras import datasets\n",
    "from tensorflow.keras.models import Model\n",
    "from tensorflow.keras.layers import Dense\n",
    "from tensorflow.keras import optimizers\n",
    "from tensorflow.keras import losses\n",
    "from tensorflow.keras import metrics"
   ]
  },
  {
   "cell_type": "code",
   "execution_count": 4,
   "metadata": {},
   "outputs": [],
   "source": [
    "def swish(x,beta=1.):\n",
    "    return x*tf.nn.sigmoid(beta*x)\n",
    "\n",
    "class DNN(Model):\n",
    "    def __init__(self,hidden_dim,output_dim):\n",
    "        super().__init__()\n",
    "        self.l1=Dense(hidden_dim,activation=lambda x:swish(x,beta=10.))\n",
    "        self.l2=Dense(hidden_dim,activation=lambda x:swish(x,beta=10.))\n",
    "        self.l3=Dense(hidden_dim,activation=lambda x:swish(x,beta=10.))\n",
    "        self.l4=Dense(output_dim,activation='softmax')\n",
    "        self.ls=[self.l1,self.l2,self.l3,self.l4]\n",
    "        \n",
    "    def call(self,x):\n",
    "        for layer in self.ls:\n",
    "            x=layer(x)\n",
    "        return x"
   ]
  },
  {
   "cell_type": "code",
   "execution_count": 5,
   "metadata": {},
   "outputs": [],
   "source": [
    "mnist=datasets.mnist\n",
    "(x_train,t_train),(x_test,t_test)=mnist.load_data()\n",
    "\n",
    "x_train=(x_train.reshape(-1,784)/255).astype(np.float32)\n",
    "x_test=(x_test.reshape(-1,784)/255).astype(np.float32)\n",
    "t_train=np.eye(10)[t_train].astype(np.float32)\n",
    "t_test=np.eye(10)[t_test].astype(np.float32)"
   ]
  },
  {
   "cell_type": "code",
   "execution_count": 6,
   "metadata": {},
   "outputs": [],
   "source": [
    "model=DNN(200,10)"
   ]
  },
  {
   "cell_type": "code",
   "execution_count": 7,
   "metadata": {},
   "outputs": [
    {
     "name": "stdout",
     "output_type": "stream",
     "text": [
      "epoch: 0, loss: 3.827, acc: 0.767\n",
      "epoch: 1, loss: 3.111, acc: 0.810\n",
      "epoch: 2, loss: 2.845, acc: 0.826\n",
      "epoch: 3, loss: 2.698, acc: 0.834\n",
      "epoch: 4, loss: 2.611, acc: 0.839\n",
      "epoch: 5, loss: 2.557, acc: 0.842\n",
      "epoch: 6, loss: 2.511, acc: 0.845\n",
      "epoch: 7, loss: 2.489, acc: 0.846\n",
      "epoch: 8, loss: 2.471, acc: 0.847\n",
      "epoch: 9, loss: 2.491, acc: 0.846\n",
      "epoch: 10, loss: 2.513, acc: 0.845\n",
      "epoch: 11, loss: 2.552, acc: 0.842\n",
      "epoch: 12, loss: 2.677, acc: 0.834\n",
      "epoch: 13, loss: 2.779, acc: 0.828\n",
      "epoch: 14, loss: 3.009, acc: 0.814\n",
      "epoch: 15, loss: 3.413, acc: 0.789\n",
      "epoch: 16, loss: 3.696, acc: 0.771\n",
      "epoch: 17, loss: 4.046, acc: 0.749\n",
      "epoch: 18, loss: 4.498, acc: 0.721\n",
      "epoch: 19, loss: 4.929, acc: 0.695\n",
      "epoch: 20, loss: 5.384, acc: 0.666\n",
      "epoch: 21, loss: 5.797, acc: 0.641\n",
      "epoch: 22, loss: 6.174, acc: 0.617\n",
      "epoch: 23, loss: 6.519, acc: 0.596\n",
      "epoch: 24, loss: 6.838, acc: 0.576\n",
      "epoch: 25, loss: 7.131, acc: 0.558\n",
      "epoch: 26, loss: 7.403, acc: 0.541\n",
      "epoch: 27, loss: 7.655, acc: 0.525\n",
      "epoch: 28, loss: 7.890, acc: 0.511\n",
      "epoch: 29, loss: 8.110, acc: 0.497\n"
     ]
    }
   ],
   "source": [
    "criterion=losses.CategoricalCrossentropy()\n",
    "optimizer=optimizers.SGD(learning_rate=0.1)\n",
    "train_loss=metrics.Mean()\n",
    "train_acc=metrics.CategoricalAccuracy()\n",
    "\n",
    "def compute_loss(t,y):\n",
    "    return criterion(t,y)\n",
    "\n",
    "def train_step(x,t):\n",
    "    with tf.GradientTape() as tape:\n",
    "        preds=model(x)\n",
    "        loss=compute_loss(preds,t)\n",
    "    grads=tape.gradient(loss,model.trainable_variables)\n",
    "    optimizer.apply_gradients(zip(grads,model.trainable_variables))\n",
    "    train_loss(loss)\n",
    "    train_acc(t,preds)\n",
    "    return loss\n",
    "\n",
    "epochs=30\n",
    "batch_size=100\n",
    "n_batches=x_train.shape[0]//batch_size\n",
    "\n",
    "for epoch in range(epochs):\n",
    "    x_,t_=shuffle(x_train,t_train)\n",
    "    \n",
    "    for batch in range(n_batches):\n",
    "        start=batch*batch_size\n",
    "        end=start+batch_size\n",
    "        train_step(x_[start:end],t_[start:end])\n",
    "    \n",
    "    print('epoch: {}, loss: {:.3f}, acc: {:.3f}'.format(epoch,train_loss.result(),train_acc.result()))\n"
   ]
  },
  {
   "cell_type": "code",
   "execution_count": 8,
   "metadata": {},
   "outputs": [
    {
     "name": "stdout",
     "output_type": "stream",
     "text": [
      "test_loss: 14.490, test_acc:0.101\n"
     ]
    }
   ],
   "source": [
    "test_loss=metrics.Mean()\n",
    "test_acc=metrics.CategoricalAccuracy()\n",
    "\n",
    "def test_step(x,t):\n",
    "    preds=model(x)\n",
    "    loss=compute_loss(t,preds)\n",
    "    test_loss(loss)\n",
    "    test_acc(t,preds)\n",
    "    return loss\n",
    "\n",
    "test_step(x_test,t_test)\n",
    "\n",
    "print('test_loss: {:.3f}, test_acc:{:.3f}'.format(test_loss.result(),test_acc.result()))"
   ]
  },
  {
   "cell_type": "code",
   "execution_count": null,
   "metadata": {},
   "outputs": [],
   "source": []
  }
 ],
 "metadata": {
  "kernelspec": {
   "display_name": "Python 3",
   "language": "python",
   "name": "python3"
  },
  "language_info": {
   "codemirror_mode": {
    "name": "ipython",
    "version": 3
   },
   "file_extension": ".py",
   "mimetype": "text/x-python",
   "name": "python",
   "nbconvert_exporter": "python",
   "pygments_lexer": "ipython3",
   "version": "3.7.7"
  }
 },
 "nbformat": 4,
 "nbformat_minor": 4
}
