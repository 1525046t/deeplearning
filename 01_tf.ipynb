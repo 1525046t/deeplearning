{
 "cells": [
  {
   "cell_type": "code",
   "execution_count": 21,
   "metadata": {},
   "outputs": [],
   "source": [
    "import numpy as np\n",
    "from sklearn import datasets\n",
    "from sklearn.utils import shuffle\n",
    "from sklearn.model_selection import train_test_split\n",
    "import tensorflow as tf\n",
    "from tensorflow.keras.models import Model\n",
    "from tensorflow.keras.layers import Dense\n",
    "from tensorflow.keras import optimizers\n",
    "from tensorflow.keras import losses\n",
    "from tensorflow.keras import metrics"
   ]
  },
  {
   "cell_type": "code",
   "execution_count": 22,
   "metadata": {},
   "outputs": [],
   "source": [
    "N=300\n",
    "x,t=datasets.make_moons(N,noise=0.3)\n",
    "t=t.reshape(N,1)\n",
    "x_train,x_test,t_train,t_test=train_test_split(x,t,test_size=0.2)"
   ]
  },
  {
   "cell_type": "code",
   "execution_count": 23,
   "metadata": {},
   "outputs": [],
   "source": [
    "class MLP(Model):\n",
    "    \n",
    "    def __init__(self,hidden_dim,output_dim):\n",
    "        super().__init__()\n",
    "        self.l1=Dense(hidden_dim,activation='sigmoid')\n",
    "        self.l2=Dense(output_dim,activation='sigmoid')\n",
    "        \n",
    "    def call(self,x):\n",
    "        h=self.l1(x)\n",
    "        y=self.l2(h)\n",
    "        return y\n",
    "\n",
    "model=MLP(3,1)"
   ]
  },
  {
   "cell_type": "code",
   "execution_count": 24,
   "metadata": {},
   "outputs": [],
   "source": [
    "criterion=losses.BinaryCrossentropy()\n",
    "optimizer=optimizers.SGD(learning_rate=0.1)\n",
    "\n",
    "def compute_loss(t,y):\n",
    "    return criterion(t,y)\n",
    "\n",
    "def train_step(x,t):\n",
    "    with tf.GradientTape() as tape:\n",
    "        preds=model(x)\n",
    "        loss=compute_loss(t,preds)\n",
    "    grads=tape.gradient(loss,model.trainable_variables)\n",
    "    optimizer.apply_gradients(zip(grads,model.trainable_variables))\n",
    "    return loss"
   ]
  },
  {
   "cell_type": "code",
   "execution_count": 25,
   "metadata": {
    "scrolled": true
   },
   "outputs": [
    {
     "name": "stdout",
     "output_type": "stream",
     "text": [
      "WARNING:tensorflow:Layer mlp_2 is casting an input tensor from dtype float64 to the layer's dtype of float32, which is new behavior in TensorFlow 2.  The layer has dtype float32 because it's dtype defaults to floatx.\n",
      "\n",
      "If you intended to run this layer in float32, you can safely ignore this warning. If in doubt, this warning is likely only an issue if you are porting a TensorFlow 1.X model to TensorFlow 2.\n",
      "\n",
      "To change all layers to have dtype float64 by default, call `tf.keras.backend.set_floatx('float64')`. To change just this layer, pass dtype='float64' to the layer constructor. If you are the author of this layer, you can disable autocasting by passing autocast=False to the base Layer constructor.\n",
      "\n",
      "epoch:1 , loss:17.1\n",
      "epoch:2 , loss:16.0\n",
      "epoch:3 , loss:15.0\n",
      "epoch:4 , loss:14.2\n",
      "epoch:5 , loss:13.5\n",
      "epoch:6 , loss:12.9\n",
      "epoch:7 , loss:12.3\n",
      "epoch:8 , loss:11.8\n",
      "epoch:9 , loss:11.4\n",
      "epoch:10 , loss:11.1\n",
      "epoch:11 , loss:10.8\n",
      "epoch:12 , loss:10.5\n",
      "epoch:13 , loss:10.3\n",
      "epoch:14 , loss:10.1\n",
      "epoch:15 , loss:9.9\n",
      "epoch:16 , loss:9.77\n",
      "epoch:17 , loss:9.6\n",
      "epoch:18 , loss:9.49\n",
      "epoch:19 , loss:9.36\n",
      "epoch:20 , loss:9.28\n",
      "epoch:21 , loss:9.18\n",
      "epoch:22 , loss:9.11\n",
      "epoch:23 , loss:9.03\n",
      "epoch:24 , loss:8.97\n",
      "epoch:25 , loss:8.89\n",
      "epoch:26 , loss:8.84\n",
      "epoch:27 , loss:8.79\n",
      "epoch:28 , loss:8.76\n",
      "epoch:29 , loss:8.71\n",
      "epoch:30 , loss:8.68\n",
      "epoch:31 , loss:8.64\n",
      "epoch:32 , loss:8.6\n",
      "epoch:33 , loss:8.57\n",
      "epoch:34 , loss:8.55\n",
      "epoch:35 , loss:8.54\n",
      "epoch:36 , loss:8.5\n",
      "epoch:37 , loss:8.5\n",
      "epoch:38 , loss:8.48\n",
      "epoch:39 , loss:8.45\n",
      "epoch:40 , loss:8.45\n",
      "epoch:41 , loss:8.42\n",
      "epoch:42 , loss:8.41\n",
      "epoch:43 , loss:8.41\n",
      "epoch:44 , loss:8.39\n",
      "epoch:45 , loss:8.38\n",
      "epoch:46 , loss:8.37\n",
      "epoch:47 , loss:8.35\n",
      "epoch:48 , loss:8.36\n",
      "epoch:49 , loss:8.34\n",
      "epoch:50 , loss:8.36\n",
      "epoch:51 , loss:8.33\n",
      "epoch:52 , loss:8.34\n",
      "epoch:53 , loss:8.33\n",
      "epoch:54 , loss:8.33\n",
      "epoch:55 , loss:8.31\n",
      "epoch:56 , loss:8.33\n",
      "epoch:57 , loss:8.32\n",
      "epoch:58 , loss:8.32\n",
      "epoch:59 , loss:8.3\n",
      "epoch:60 , loss:8.32\n",
      "epoch:61 , loss:8.33\n",
      "epoch:62 , loss:8.3\n",
      "epoch:63 , loss:8.31\n",
      "epoch:64 , loss:8.31\n",
      "epoch:65 , loss:8.3\n",
      "epoch:66 , loss:8.3\n",
      "epoch:67 , loss:8.29\n",
      "epoch:68 , loss:8.32\n",
      "epoch:69 , loss:8.3\n",
      "epoch:70 , loss:8.28\n",
      "epoch:71 , loss:8.3\n",
      "epoch:72 , loss:8.31\n",
      "epoch:73 , loss:8.3\n",
      "epoch:74 , loss:8.29\n",
      "epoch:75 , loss:8.29\n",
      "epoch:76 , loss:8.28\n",
      "epoch:77 , loss:8.29\n",
      "epoch:78 , loss:8.29\n",
      "epoch:79 , loss:8.28\n",
      "epoch:80 , loss:8.28\n",
      "epoch:81 , loss:8.29\n",
      "epoch:82 , loss:8.29\n",
      "epoch:83 , loss:8.28\n",
      "epoch:84 , loss:8.29\n",
      "epoch:85 , loss:8.31\n",
      "epoch:86 , loss:8.28\n",
      "epoch:87 , loss:8.28\n",
      "epoch:88 , loss:8.29\n",
      "epoch:89 , loss:8.29\n",
      "epoch:90 , loss:8.29\n",
      "epoch:91 , loss:8.28\n",
      "epoch:92 , loss:8.28\n",
      "epoch:93 , loss:8.27\n",
      "epoch:94 , loss:8.27\n",
      "epoch:95 , loss:8.27\n",
      "epoch:96 , loss:8.27\n",
      "epoch:97 , loss:8.29\n",
      "epoch:98 , loss:8.28\n",
      "epoch:99 , loss:8.28\n",
      "epoch:100 , loss:8.28\n"
     ]
    }
   ],
   "source": [
    "epoches=100\n",
    "batch_size=10\n",
    "n_batches=x_train.shape[0]//batch_size\n",
    "\n",
    "for epoch in range(epoches):\n",
    "    train_loss=0.\n",
    "    x_,t_=shuffle(x_train,t_train)\n",
    "    \n",
    "    for batch in range(n_batches):\n",
    "        start=batch*batch_size\n",
    "        end=start+batch_size\n",
    "        loss=train_step(x_[start:end],t_[start:end])\n",
    "        train_loss+=loss.numpy()\n",
    "    \n",
    "    print('epoch:{} , loss:{:.3}'.format(epoch+1,train_loss))\n",
    "    "
   ]
  },
  {
   "cell_type": "code",
   "execution_count": 26,
   "metadata": {},
   "outputs": [
    {
     "name": "stdout",
     "output_type": "stream",
     "text": [
      "test_loss: 0.410, test_acc: 0.850\n"
     ]
    }
   ],
   "source": [
    "test_loss=metrics.Mean()\n",
    "test_acc=metrics.BinaryAccuracy()\n",
    "def test_step(x,t):\n",
    "    preds=model(x)\n",
    "    loss=compute_loss(t,preds)\n",
    "    test_loss(loss)\n",
    "    test_acc(t,preds)\n",
    "    return preds\n",
    "test_step(x_test,t_test)\n",
    "print('test_loss: {:.3f}, test_acc: {:.3f}'.format(test_loss.result(),test_acc.result()))"
   ]
  },
  {
   "cell_type": "code",
   "execution_count": null,
   "metadata": {},
   "outputs": [],
   "source": []
  }
 ],
 "metadata": {
  "kernelspec": {
   "display_name": "Python 3",
   "language": "python",
   "name": "python3"
  },
  "language_info": {
   "codemirror_mode": {
    "name": "ipython",
    "version": 3
   },
   "file_extension": ".py",
   "mimetype": "text/x-python",
   "name": "python",
   "nbconvert_exporter": "python",
   "pygments_lexer": "ipython3",
   "version": "3.7.7"
  }
 },
 "nbformat": 4,
 "nbformat_minor": 4
}
