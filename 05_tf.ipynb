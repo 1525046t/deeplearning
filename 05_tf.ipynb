{
 "cells": [
  {
   "cell_type": "code",
   "execution_count": 1,
   "metadata": {},
   "outputs": [],
   "source": [
    "import numpy as np\n",
    "import sys\n",
    "import matplotlib.pyplot as plt\n",
    "from sklearn.model_selection import train_test_split\n",
    "from sklearn.utils import shuffle\n",
    "import tensorflow as tf\n",
    "from tensorflow.keras import datasets\n",
    "from tensorflow.keras.models import Model\n",
    "from tensorflow.keras.layers import Dense, Dropout\n",
    "from tensorflow.keras import optimizers\n",
    "from tensorflow.keras import losses\n",
    "from tensorflow.keras import metrics\n",
    "from callbacks import EarlyStopping"
   ]
  },
  {
   "cell_type": "code",
   "execution_count": 2,
   "metadata": {},
   "outputs": [],
   "source": [
    "'''\n",
    "0. モデルの定義\n",
    "'''\n",
    "class DNN(Model):\n",
    "    def __init__(self, hidden_dim, output_dim):\n",
    "        super().__init__()\n",
    "        self.l1 = Dense(hidden_dim, activation='relu')\n",
    "        self.d1 = Dropout(0.5)\n",
    "        self.l2 = Dense(hidden_dim, activation='relu')\n",
    "        self.d2 = Dropout(0.5)\n",
    "        self.l3 = Dense(hidden_dim, activation='relu')\n",
    "        self.d3 = Dropout(0.5)\n",
    "        self.l4 = Dense(output_dim, activation='softmax')\n",
    "\n",
    "        self.ls = [self.l1, self.d1,self.l2, self.d2,self.l3, self.d3,self.l4]\n",
    "\n",
    "    def call(self, x):\n",
    "        for layer in self.ls:\n",
    "            x = layer(x)\n",
    "        return x"
   ]
  },
  {
   "cell_type": "code",
   "execution_count": 3,
   "metadata": {},
   "outputs": [],
   "source": [
    "'''\n",
    "1. データの準備\n",
    "'''\n",
    "mnist = datasets.mnist\n",
    "(x_train, t_train), (x_test, t_test) = mnist.load_data()\n",
    "\n",
    "x_train = (x_train.reshape(-1, 784) / 255).astype(np.float32)\n",
    "x_test = (x_test.reshape(-1, 784) / 255).astype(np.float32)\n",
    "\n",
    "x_train, x_val, t_train, t_val = train_test_split(x_train, t_train, test_size=0.2)"
   ]
  },
  {
   "cell_type": "code",
   "execution_count": 4,
   "metadata": {},
   "outputs": [],
   "source": [
    "'''\n",
    "2. モデルの構築\n",
    "'''\n",
    "model = DNN(200, 10)\n",
    "#optimizer=optimizers.SGD(learning_rate=0.01)\n",
    "#optimizer=optimizers.SGD(learning_rate=0.01,momentum=0.9) # モメンタム\n",
    "#optimizer=optimizers.SGD(learning_rate=0.01,momentum=0.9,nesterov=True) # モメンタム\n",
    "#optimizer=optimizers.Adagrad(learning_rate=0.01)\n",
    "#optimizer=optimizers.RMSprop(learning_rate=0.001,rho=0.99)\n",
    "#optimizer=optimizers.Adadelta(rho=0.95)\n",
    "#optimizer=optimizers.Adam(learning_rate=0.001,beta_1=0.9,beta_2=0.999)\n",
    "optimizer=optimizers.Adam(learning_rate=0.001,beta_1=0.9,beta_2=0.999,amsgrad=True)\n",
    "criterion=losses.SparseCategoricalCrossentropy()\n",
    "train_loss=metrics.Mean()\n",
    "train_acc=metrics.SparseCategoricalAccuracy()\n",
    "val_loss=metrics.Mean()\n",
    "val_acc=metrics.SparseCategoricalAccuracy()\n",
    "\n",
    "def compute_loss(t,y):\n",
    "    return criterion(t,y)\n",
    "\n",
    "def train_step(x,t):\n",
    "    with tf.GradientTape() as tape:\n",
    "        preds=model(x)\n",
    "        loss=compute_loss(t,preds)\n",
    "    grads=tape.gradient(loss,model.trainable_variables)\n",
    "    optimizer.apply_gradients(zip(grads,model.trainable_variables))\n",
    "    train_loss(loss)\n",
    "    train_acc(t,preds)\n",
    "    return loss\n",
    "\n",
    "def val_step(x,t):\n",
    "    preds=model(x)\n",
    "    loss=compute_loss(t,preds)\n",
    "    val_loss(loss)\n",
    "    val_acc(t,preds)"
   ]
  },
  {
   "cell_type": "code",
   "execution_count": 5,
   "metadata": {},
   "outputs": [
    {
     "name": "stdout",
     "output_type": "stream",
     "text": [
      "epoch: 1, loss: 0.279, acc: 0.918, val_loss: 0.132, val_acc: 0.958\n",
      "epoch: 2, loss: 0.193, acc: 0.943, val_loss: 0.122, val_acc: 0.962\n",
      "epoch: 3, loss: 0.151, acc: 0.955, val_loss: 0.113, val_acc: 0.965\n",
      "epoch: 4, loss: 0.125, acc: 0.963, val_loss: 0.11, val_acc: 0.967\n",
      "epoch: 5, loss: 0.107, acc: 0.968, val_loss: 0.108, val_acc: 0.968\n",
      "epoch: 6, loss: 0.0935, acc: 0.972, val_loss: 0.107, val_acc: 0.969\n",
      "epoch: 7, loss: 0.0832, acc: 0.975, val_loss: 0.109, val_acc: 0.969\n"
     ]
    }
   ],
   "source": [
    "'''\n",
    "3. モデルの学習\n",
    "'''\n",
    "x_,t_=shuffle(x_train,t_train)\n",
    "es=EarlyStopping()\n",
    "epochs=1000\n",
    "batch_size=100\n",
    "n_batches_train=x_train.shape[0]//batch_size\n",
    "n_batches_val=x_val.shape[0]//batch_size\n",
    "hist={'val_loss':[],'val_accuracy':[]}\n",
    "\n",
    "for epoch in range(epochs):\n",
    "    \n",
    "    for batch in range(n_batches_train):\n",
    "        start=batch*batch_size\n",
    "        end=start+batch_size\n",
    "        train_step(x_[start:end],t_[start:end])\n",
    "    \n",
    "    for batch in range(n_batches_val):\n",
    "        start=batch*batch_size\n",
    "        end=start+batch_size\n",
    "        val_step(x_val[start:end],t_val[start:end])\n",
    "        \n",
    "    hist['val_loss'].append(val_loss.result())\n",
    "    hist['val_accuracy'].append(val_acc.result())\n",
    "  \n",
    "    print('epoch: {}, loss: {:.3}, acc: {:.3f}, val_loss: {:.3}, val_acc: {:.3f}'.format(epoch+1,train_loss.result(),train_acc.result(),val_loss.result(),val_acc.result()))\n",
    "\n",
    "    if es(val_loss.result()):\n",
    "        break"
   ]
  },
  {
   "cell_type": "code",
   "execution_count": 6,
   "metadata": {},
   "outputs": [
    {
     "data": {
      "image/png": "[encoded data removed]",
      "text/plain": [
       "<Figure size 432x288 with 1 Axes>"
      ]
     },
     "metadata": {
      "needs_background": "light"
     },
     "output_type": "display_data"
    },
    {
     "name": "stdout",
     "output_type": "stream",
     "text": [
      "test_loss: 0.105, test_acc: 0.974\n"
     ]
    }
   ],
   "source": [
    "\n",
    "'''\n",
    "4. モデルの評価\n",
    "'''\n",
    "val_loss=hist['val_loss']\n",
    "\n",
    "fig=plt.figure()\n",
    "plt.rc('font',family='serif')\n",
    "plt.plot(range(len(val_loss)),val_loss,color='black',linewidth=1)\n",
    "plt.xlabel('epoch')\n",
    "plt.ylabel('loss')\n",
    "plt.show()\n",
    "\n",
    "test_loss=metrics.Mean()\n",
    "test_acc=metrics.SparseCategoricalAccuracy()\n",
    "\n",
    "def test_step(x,t):\n",
    "    preds=model(x)\n",
    "    loss=compute_loss(t,preds)\n",
    "    test_loss(loss)\n",
    "    test_acc(t,preds)\n",
    "    return loss\n",
    "\n",
    "test_step(x_test,t_test)\n",
    "\n",
    "print('test_loss: {:.3}, test_acc: {:.3f}'.format(test_loss.result(),test_acc.result()))"
   ]
  },
  {
   "cell_type": "code",
   "execution_count": null,
   "metadata": {},
   "outputs": [],
   "source": []
  }
 ],
 "metadata": {
  "kernelspec": {
   "display_name": "Python 3",
   "language": "python",
   "name": "python3"
  },
  "language_info": {
   "codemirror_mode": {
    "name": "ipython",
    "version": 3
   },
   "file_extension": ".py",
   "mimetype": "text/x-python",
   "name": "python",
   "nbconvert_exporter": "python",
   "pygments_lexer": "ipython3",
   "version": "3.7.7"
  }
 },
 "nbformat": 4,
 "nbformat_minor": 4
}
