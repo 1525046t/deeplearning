{
 "cells": [
  {
   "cell_type": "code",
   "execution_count": 1,
   "metadata": {},
   "outputs": [],
   "source": [
    "from tensorflow.keras import datasets,backend as K\n",
    "import numpy as np\n",
    "\n",
    "mnist=datasets.mnist\n",
    "(x_train,t_train),(x_test,t_test)=mnist.load_data()\n",
    "\n",
    "def swish(x,beta=1.):\n",
    "    return x*K.sigmoid(beta*x)"
   ]
  },
  {
   "cell_type": "code",
   "execution_count": 2,
   "metadata": {},
   "outputs": [],
   "source": [
    "x_train=(x_train.reshape(-1,784)/255).astype(np.float32)\n",
    "x_test=(x_test.reshape(-1,784)/255).astype(np.float32)\n",
    "t_train=np.eye(10)[t_train].astype(np.float32)\n",
    "t_test=np.eye(10)[t_test].astype(np.float32)"
   ]
  },
  {
   "cell_type": "code",
   "execution_count": 3,
   "metadata": {},
   "outputs": [
    {
     "name": "stdout",
     "output_type": "stream",
     "text": [
      "Train on 60000 samples\n",
      "Epoch 1/30\n",
      "60000/60000 - 1s - loss: 1.5248 - accuracy: 0.6265\n",
      "Epoch 2/30\n",
      "60000/60000 - 1s - loss: 0.4449 - accuracy: 0.8740\n",
      "Epoch 3/30\n",
      "60000/60000 - 1s - loss: 0.3451 - accuracy: 0.9009\n",
      "Epoch 4/30\n",
      "60000/60000 - 1s - loss: 0.3061 - accuracy: 0.9112\n",
      "Epoch 5/30\n",
      "60000/60000 - 1s - loss: 0.2795 - accuracy: 0.9190\n",
      "Epoch 6/30\n",
      "60000/60000 - 1s - loss: 0.2575 - accuracy: 0.9257\n",
      "Epoch 7/30\n",
      "60000/60000 - 1s - loss: 0.2382 - accuracy: 0.9323\n",
      "Epoch 8/30\n",
      "60000/60000 - 1s - loss: 0.2200 - accuracy: 0.9371\n",
      "Epoch 9/30\n",
      "60000/60000 - 1s - loss: 0.2046 - accuracy: 0.9416\n",
      "Epoch 10/30\n",
      "60000/60000 - 1s - loss: 0.1904 - accuracy: 0.9455\n",
      "Epoch 11/30\n",
      "60000/60000 - 1s - loss: 0.1776 - accuracy: 0.9494\n",
      "Epoch 12/30\n",
      "60000/60000 - 1s - loss: 0.1664 - accuracy: 0.9515\n",
      "Epoch 13/30\n",
      "60000/60000 - 1s - loss: 0.1563 - accuracy: 0.9549\n",
      "Epoch 14/30\n",
      "60000/60000 - 1s - loss: 0.1471 - accuracy: 0.9575\n",
      "Epoch 15/30\n",
      "60000/60000 - 1s - loss: 0.1378 - accuracy: 0.9600\n",
      "Epoch 16/30\n",
      "60000/60000 - 1s - loss: 0.1303 - accuracy: 0.9624\n",
      "Epoch 17/30\n",
      "60000/60000 - 1s - loss: 0.1234 - accuracy: 0.9650\n",
      "Epoch 18/30\n",
      "60000/60000 - 1s - loss: 0.1176 - accuracy: 0.9664\n",
      "Epoch 19/30\n",
      "60000/60000 - 1s - loss: 0.1105 - accuracy: 0.9685\n",
      "Epoch 20/30\n",
      "60000/60000 - 1s - loss: 0.1057 - accuracy: 0.9692\n",
      "Epoch 21/30\n",
      "60000/60000 - 1s - loss: 0.1001 - accuracy: 0.9714\n",
      "Epoch 22/30\n",
      "60000/60000 - 1s - loss: 0.0957 - accuracy: 0.9724\n",
      "Epoch 23/30\n",
      "60000/60000 - 1s - loss: 0.0917 - accuracy: 0.9734\n",
      "Epoch 24/30\n",
      "60000/60000 - 1s - loss: 0.0875 - accuracy: 0.9748\n",
      "Epoch 25/30\n",
      "60000/60000 - 1s - loss: 0.0836 - accuracy: 0.9758\n",
      "Epoch 26/30\n",
      "60000/60000 - 1s - loss: 0.0803 - accuracy: 0.9767\n",
      "Epoch 27/30\n",
      "60000/60000 - 1s - loss: 0.0769 - accuracy: 0.9783\n",
      "Epoch 28/30\n",
      "60000/60000 - 1s - loss: 0.0727 - accuracy: 0.9798\n",
      "Epoch 29/30\n",
      "60000/60000 - 1s - loss: 0.0710 - accuracy: 0.9797\n",
      "Epoch 30/30\n",
      "60000/60000 - 1s - loss: 0.0679 - accuracy: 0.9806\n",
      "test_loss: 0.100, test_acc: 0.971\n"
     ]
    }
   ],
   "source": [
    "from tensorflow.keras.models import Sequential\n",
    "from tensorflow.keras.layers import Dense\n",
    "\n",
    "model=Sequential()\n",
    "model.add(Dense(200,activation=lambda x:swish(x,beta=10.)))\n",
    "model.add(Dense(200,activation=swish))\n",
    "model.add(Dense(200,activation=swish))\n",
    "model.add(Dense(10,activation='softmax'))\n",
    "\n",
    "model.compile(optimizer='sgd',loss='categorical_crossentropy',metrics=['accuracy'])\n",
    "model.fit(x_train,t_train,epochs=30,batch_size=100,verbose=2)\n",
    "loss,acc=model.evaluate(x_test,t_test,verbose=0)\n",
    "print('test_loss: {:.3f}, test_acc: {:.3f}'.format(loss,acc))"
   ]
  },
  {
   "cell_type": "code",
   "execution_count": 4,
   "metadata": {},
   "outputs": [
    {
     "name": "stdout",
     "output_type": "stream",
     "text": [
      "test_loss: 0.100, test_acc: 0.971\n"
     ]
    }
   ],
   "source": [
    "loss,acc=model.evaluate(x_test,t_test,verbose=0)\n",
    "print('test_loss: {:.3f}, test_acc: {:.3f}'.format(loss,acc))"
   ]
  },
  {
   "cell_type": "code",
   "execution_count": null,
   "metadata": {},
   "outputs": [],
   "source": []
  }
 ],
 "metadata": {
  "kernelspec": {
   "display_name": "Python 3",
   "language": "python",
   "name": "python3"
  },
  "language_info": {
   "codemirror_mode": {
    "name": "ipython",
    "version": 3
   },
   "file_extension": ".py",
   "mimetype": "text/x-python",
   "name": "python",
   "nbconvert_exporter": "python",
   "pygments_lexer": "ipython3",
   "version": "3.7.7"
  }
 },
 "nbformat": 4,
 "nbformat_minor": 4
}
